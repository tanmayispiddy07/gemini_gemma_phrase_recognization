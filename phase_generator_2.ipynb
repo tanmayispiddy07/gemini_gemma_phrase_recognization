{
  "nbformat": 4,
  "nbformat_minor": 0,
  "metadata": {
    "colab": {
      "provenance": []
    },
    "kernelspec": {
      "name": "python3",
      "display_name": "Python 3"
    },
    "language_info": {
      "name": "python"
    },
    "widgets": {
      "application/vnd.jupyter.widget-state+json": {
        "c33ca50ce44b4311acaffbca9f2a2e1b": {
          "model_module": "@jupyter-widgets/controls",
          "model_name": "HBoxModel",
          "model_module_version": "1.5.0",
          "state": {
            "_dom_classes": [],
            "_model_module": "@jupyter-widgets/controls",
            "_model_module_version": "1.5.0",
            "_model_name": "HBoxModel",
            "_view_count": null,
            "_view_module": "@jupyter-widgets/controls",
            "_view_module_version": "1.5.0",
            "_view_name": "HBoxView",
            "box_style": "",
            "children": [
              "IPY_MODEL_01e29e0eb49c45f3bb42881751c9e066",
              "IPY_MODEL_90dfa0e30f3c47c5b21558b2f3a4ee1c",
              "IPY_MODEL_9780a821fd6a4517a62b5eab96af7fee"
            ],
            "layout": "IPY_MODEL_eef15bbaf05e4bcf87ad7d6f01e71e23"
          }
        },
        "01e29e0eb49c45f3bb42881751c9e066": {
          "model_module": "@jupyter-widgets/controls",
          "model_name": "HTMLModel",
          "model_module_version": "1.5.0",
          "state": {
            "_dom_classes": [],
            "_model_module": "@jupyter-widgets/controls",
            "_model_module_version": "1.5.0",
            "_model_name": "HTMLModel",
            "_view_count": null,
            "_view_module": "@jupyter-widgets/controls",
            "_view_module_version": "1.5.0",
            "_view_name": "HTMLView",
            "description": "",
            "description_tooltip": null,
            "layout": "IPY_MODEL_35f62250e3a64f71834aea698ccf159a",
            "placeholder": "​",
            "style": "IPY_MODEL_0cd77af7c0274e3e85e4c31735e099de",
            "value": "100%"
          }
        },
        "90dfa0e30f3c47c5b21558b2f3a4ee1c": {
          "model_module": "@jupyter-widgets/controls",
          "model_name": "FloatProgressModel",
          "model_module_version": "1.5.0",
          "state": {
            "_dom_classes": [],
            "_model_module": "@jupyter-widgets/controls",
            "_model_module_version": "1.5.0",
            "_model_name": "FloatProgressModel",
            "_view_count": null,
            "_view_module": "@jupyter-widgets/controls",
            "_view_module_version": "1.5.0",
            "_view_name": "ProgressView",
            "bar_style": "success",
            "description": "",
            "description_tooltip": null,
            "layout": "IPY_MODEL_23cc064d335644d7a1bd5f111e37b1f6",
            "max": 150,
            "min": 0,
            "orientation": "horizontal",
            "style": "IPY_MODEL_5f7d51d1dd6a4e30b2ee22e251437310",
            "value": 150
          }
        },
        "9780a821fd6a4517a62b5eab96af7fee": {
          "model_module": "@jupyter-widgets/controls",
          "model_name": "HTMLModel",
          "model_module_version": "1.5.0",
          "state": {
            "_dom_classes": [],
            "_model_module": "@jupyter-widgets/controls",
            "_model_module_version": "1.5.0",
            "_model_name": "HTMLModel",
            "_view_count": null,
            "_view_module": "@jupyter-widgets/controls",
            "_view_module_version": "1.5.0",
            "_view_name": "HTMLView",
            "description": "",
            "description_tooltip": null,
            "layout": "IPY_MODEL_4d59e3d85a9e49268e9259509a9bd5e8",
            "placeholder": "​",
            "style": "IPY_MODEL_58991618ff1d4dfd8bf0c6a28a51e01d",
            "value": " 150/150 [33:39&lt;00:00,  6.87s/it]"
          }
        },
        "eef15bbaf05e4bcf87ad7d6f01e71e23": {
          "model_module": "@jupyter-widgets/base",
          "model_name": "LayoutModel",
          "model_module_version": "1.2.0",
          "state": {
            "_model_module": "@jupyter-widgets/base",
            "_model_module_version": "1.2.0",
            "_model_name": "LayoutModel",
            "_view_count": null,
            "_view_module": "@jupyter-widgets/base",
            "_view_module_version": "1.2.0",
            "_view_name": "LayoutView",
            "align_content": null,
            "align_items": null,
            "align_self": null,
            "border": null,
            "bottom": null,
            "display": null,
            "flex": null,
            "flex_flow": null,
            "grid_area": null,
            "grid_auto_columns": null,
            "grid_auto_flow": null,
            "grid_auto_rows": null,
            "grid_column": null,
            "grid_gap": null,
            "grid_row": null,
            "grid_template_areas": null,
            "grid_template_columns": null,
            "grid_template_rows": null,
            "height": null,
            "justify_content": null,
            "justify_items": null,
            "left": null,
            "margin": null,
            "max_height": null,
            "max_width": null,
            "min_height": null,
            "min_width": null,
            "object_fit": null,
            "object_position": null,
            "order": null,
            "overflow": null,
            "overflow_x": null,
            "overflow_y": null,
            "padding": null,
            "right": null,
            "top": null,
            "visibility": null,
            "width": null
          }
        },
        "35f62250e3a64f71834aea698ccf159a": {
          "model_module": "@jupyter-widgets/base",
          "model_name": "LayoutModel",
          "model_module_version": "1.2.0",
          "state": {
            "_model_module": "@jupyter-widgets/base",
            "_model_module_version": "1.2.0",
            "_model_name": "LayoutModel",
            "_view_count": null,
            "_view_module": "@jupyter-widgets/base",
            "_view_module_version": "1.2.0",
            "_view_name": "LayoutView",
            "align_content": null,
            "align_items": null,
            "align_self": null,
            "border": null,
            "bottom": null,
            "display": null,
            "flex": null,
            "flex_flow": null,
            "grid_area": null,
            "grid_auto_columns": null,
            "grid_auto_flow": null,
            "grid_auto_rows": null,
            "grid_column": null,
            "grid_gap": null,
            "grid_row": null,
            "grid_template_areas": null,
            "grid_template_columns": null,
            "grid_template_rows": null,
            "height": null,
            "justify_content": null,
            "justify_items": null,
            "left": null,
            "margin": null,
            "max_height": null,
            "max_width": null,
            "min_height": null,
            "min_width": null,
            "object_fit": null,
            "object_position": null,
            "order": null,
            "overflow": null,
            "overflow_x": null,
            "overflow_y": null,
            "padding": null,
            "right": null,
            "top": null,
            "visibility": null,
            "width": null
          }
        },
        "0cd77af7c0274e3e85e4c31735e099de": {
          "model_module": "@jupyter-widgets/controls",
          "model_name": "DescriptionStyleModel",
          "model_module_version": "1.5.0",
          "state": {
            "_model_module": "@jupyter-widgets/controls",
            "_model_module_version": "1.5.0",
            "_model_name": "DescriptionStyleModel",
            "_view_count": null,
            "_view_module": "@jupyter-widgets/base",
            "_view_module_version": "1.2.0",
            "_view_name": "StyleView",
            "description_width": ""
          }
        },
        "23cc064d335644d7a1bd5f111e37b1f6": {
          "model_module": "@jupyter-widgets/base",
          "model_name": "LayoutModel",
          "model_module_version": "1.2.0",
          "state": {
            "_model_module": "@jupyter-widgets/base",
            "_model_module_version": "1.2.0",
            "_model_name": "LayoutModel",
            "_view_count": null,
            "_view_module": "@jupyter-widgets/base",
            "_view_module_version": "1.2.0",
            "_view_name": "LayoutView",
            "align_content": null,
            "align_items": null,
            "align_self": null,
            "border": null,
            "bottom": null,
            "display": null,
            "flex": null,
            "flex_flow": null,
            "grid_area": null,
            "grid_auto_columns": null,
            "grid_auto_flow": null,
            "grid_auto_rows": null,
            "grid_column": null,
            "grid_gap": null,
            "grid_row": null,
            "grid_template_areas": null,
            "grid_template_columns": null,
            "grid_template_rows": null,
            "height": null,
            "justify_content": null,
            "justify_items": null,
            "left": null,
            "margin": null,
            "max_height": null,
            "max_width": null,
            "min_height": null,
            "min_width": null,
            "object_fit": null,
            "object_position": null,
            "order": null,
            "overflow": null,
            "overflow_x": null,
            "overflow_y": null,
            "padding": null,
            "right": null,
            "top": null,
            "visibility": null,
            "width": null
          }
        },
        "5f7d51d1dd6a4e30b2ee22e251437310": {
          "model_module": "@jupyter-widgets/controls",
          "model_name": "ProgressStyleModel",
          "model_module_version": "1.5.0",
          "state": {
            "_model_module": "@jupyter-widgets/controls",
            "_model_module_version": "1.5.0",
            "_model_name": "ProgressStyleModel",
            "_view_count": null,
            "_view_module": "@jupyter-widgets/base",
            "_view_module_version": "1.2.0",
            "_view_name": "StyleView",
            "bar_color": null,
            "description_width": ""
          }
        },
        "4d59e3d85a9e49268e9259509a9bd5e8": {
          "model_module": "@jupyter-widgets/base",
          "model_name": "LayoutModel",
          "model_module_version": "1.2.0",
          "state": {
            "_model_module": "@jupyter-widgets/base",
            "_model_module_version": "1.2.0",
            "_model_name": "LayoutModel",
            "_view_count": null,
            "_view_module": "@jupyter-widgets/base",
            "_view_module_version": "1.2.0",
            "_view_name": "LayoutView",
            "align_content": null,
            "align_items": null,
            "align_self": null,
            "border": null,
            "bottom": null,
            "display": null,
            "flex": null,
            "flex_flow": null,
            "grid_area": null,
            "grid_auto_columns": null,
            "grid_auto_flow": null,
            "grid_auto_rows": null,
            "grid_column": null,
            "grid_gap": null,
            "grid_row": null,
            "grid_template_areas": null,
            "grid_template_columns": null,
            "grid_template_rows": null,
            "height": null,
            "justify_content": null,
            "justify_items": null,
            "left": null,
            "margin": null,
            "max_height": null,
            "max_width": null,
            "min_height": null,
            "min_width": null,
            "object_fit": null,
            "object_position": null,
            "order": null,
            "overflow": null,
            "overflow_x": null,
            "overflow_y": null,
            "padding": null,
            "right": null,
            "top": null,
            "visibility": null,
            "width": null
          }
        },
        "58991618ff1d4dfd8bf0c6a28a51e01d": {
          "model_module": "@jupyter-widgets/controls",
          "model_name": "DescriptionStyleModel",
          "model_module_version": "1.5.0",
          "state": {
            "_model_module": "@jupyter-widgets/controls",
            "_model_module_version": "1.5.0",
            "_model_name": "DescriptionStyleModel",
            "_view_count": null,
            "_view_module": "@jupyter-widgets/base",
            "_view_module_version": "1.2.0",
            "_view_name": "StyleView",
            "description_width": ""
          }
        }
      }
    }
  },
  "cells": [
    {
      "cell_type": "code",
      "source": [
        "import pandas as pd"
      ],
      "metadata": {
        "id": "JT7e9THVYKFN"
      },
      "execution_count": 1,
      "outputs": []
    },
    {
      "cell_type": "code",
      "execution_count": 3,
      "metadata": {
        "colab": {
          "base_uri": "https://localhost:8080/"
        },
        "id": "5P30IwC1Mei5",
        "outputId": "892ff0a0-45c8-4a85-fc92-3235c8a317dc"
      },
      "outputs": [
        {
          "output_type": "stream",
          "name": "stdout",
          "text": [
            "You are authorizing client libraries without access to a web browser. Please run the following command on a machine with a web browser and copy its output back here. Make sure the installed gcloud version is 372.0.0 or newer.\n",
            "\n",
            "gcloud auth application-default login --remote-bootstrap=\"https://accounts.google.com/o/oauth2/auth?response_type=code&client_id=9418359443-nldovmhh4iq7db59e4311n94tounuk1g.apps.googleusercontent.com&scope=https%3A%2F%2Fwww.googleapis.com%2Fauth%2Fcloud-platform+https%3A%2F%2Fwww.googleapis.com%2Fauth%2Fgenerative-language.tuning&state=JQIQtirWOauYyEfTs2dtDcKXV142WC&access_type=offline&code_challenge=kRakTtnzC3QMy1uw8sT5IjUgDcHeR_mmGc5W2ocTg_s&code_challenge_method=S256&token_usage=remote\"\n",
            "\n",
            "\n",
            "Enter the output of the above command: https://localhost:8085/?state=JQIQtirWOauYyEfTs2dtDcKXV142WC&code=4/0AQlEd8zL-XwdCUhpTxsWjh9het3IRIQcbHWrZq1KBHwvej8MwkW1eR2GXvaIB6SAvidU_g&scope=https://www.googleapis.com/auth/cloud-platform%20https://www.googleapis.com/auth/generative-language.tuning\n",
            "\n",
            "Credentials saved to file: [/content/.config/application_default_credentials.json]\n",
            "\n",
            "These credentials will be used by any library that requests Application Default Credentials (ADC).\n"
          ]
        }
      ],
      "source": [
        "import os\n",
        "if 'COLAB_RELEASE_TAG' in os.environ:\n",
        "  from google.colab import userdata\n",
        "  import pathlib\n",
        "  pathlib.Path('/content/client_secret.json').write_text(userdata.get('CLIENT_SECRET'))\n",
        "\n",
        "  # Use `--no-browser` in colab\n",
        "  !gcloud auth application-default login --no-browser --client-id-file client_secret.json --scopes='https://www.googleapis.com/auth/cloud-platform,https://www.googleapis.com/auth/generative-language.tuning'\n",
        "else:\n",
        "  !gcloud auth application-default login --client-id-file client_secret.json --scopes='https://www.googleapis.com/auth/cloud-platform,https://www.googleapis.com/auth/generative-language.tuning'"
      ]
    },
    {
      "cell_type": "code",
      "source": [
        "!pip install -q google-generativeai"
      ],
      "metadata": {
        "id": "hJ2KY4cCM14W"
      },
      "execution_count": 4,
      "outputs": []
    },
    {
      "cell_type": "code",
      "source": [
        "import google.generativeai as genai"
      ],
      "metadata": {
        "id": "OQsRDV2HMyCg"
      },
      "execution_count": 5,
      "outputs": []
    },
    {
      "cell_type": "code",
      "source": [
        "for i, m in zip(range(5), genai.list_tuned_models()):\n",
        "  print(m.name)"
      ],
      "metadata": {
        "colab": {
          "base_uri": "https://localhost:8080/"
        },
        "id": "GZ6NhVpPM4si",
        "outputId": "f3b09fb4-9ed1-47e3-f118-62636a3dcf3d"
      },
      "execution_count": 6,
      "outputs": [
        {
          "output_type": "stream",
          "name": "stdout",
          "text": [
            "tunedModels/phasegenerator2-8kybdxroccyf\n",
            "tunedModels/phrasegenerator3-ktb3b1xs5lcb\n",
            "tunedModels/phasegenerator6\n",
            "tunedModels/phase-generator-7\n",
            "tunedModels/phase-generator-8\n"
          ]
        }
      ]
    },
    {
      "cell_type": "code",
      "source": [
        "base_model = [\n",
        "    m for m in genai.list_models()\n",
        "    if \"createTunedModel\" in m.supported_generation_methods][1]\n",
        "base_model"
      ],
      "metadata": {
        "colab": {
          "base_uri": "https://localhost:8080/"
        },
        "id": "vHk-WRb2M7_R",
        "outputId": "aa3fc286-badf-4585-a45d-3a606a60f284"
      },
      "execution_count": 7,
      "outputs": [
        {
          "output_type": "execute_result",
          "data": {
            "text/plain": [
              "Model(name='models/gemini-1.5-flash-001-tuning',\n",
              "      base_model_id='',\n",
              "      version='001',\n",
              "      display_name='Gemini 1.5 Flash 001 Tuning',\n",
              "      description='Fast and versatile multimodal model for scaling across diverse tasks',\n",
              "      input_token_limit=16384,\n",
              "      output_token_limit=8192,\n",
              "      supported_generation_methods=['generateContent', 'countTokens', 'createTunedModel'],\n",
              "      temperature=1.0,\n",
              "      max_temperature=2.0,\n",
              "      top_p=0.95,\n",
              "      top_k=64)"
            ]
          },
          "metadata": {},
          "execution_count": 7
        }
      ]
    },
    {
      "cell_type": "code",
      "source": [],
      "metadata": {
        "id": "LKTgFuUlakns"
      },
      "execution_count": null,
      "outputs": []
    },
    {
      "cell_type": "code",
      "source": [
        "import json\n",
        "\n",
        "# Open the JSON file for reading\n",
        "with open('/content/train.json', 'r') as f:\n",
        "    # Try to load the JSON data, handling potential errors\n",
        "    try:\n",
        "        data = json.load(f)\n",
        "    except json.JSONDecodeError as e:\n",
        "        # Print a more informative error message if decoding fails\n",
        "        print(f\"Error decoding JSON: {e}\")\n",
        "        # Optionally, print the problematic line from the JSON file\n",
        "        f.seek(0)\n",
        "        for i, line in enumerate(f):\n",
        "            if i == e.lineno - 1:\n",
        "                print(f\"Problematic line ({e.lineno}): {line.strip()}\")\n",
        "                break\n",
        "        exit()  # Exit the script if there's a JSON decoding error\n"
      ],
      "metadata": {
        "id": "TeIXdMm9M_B3"
      },
      "execution_count": 8,
      "outputs": []
    },
    {
      "cell_type": "code",
      "source": [
        "df = pd.read_json('/content/train.json')"
      ],
      "metadata": {
        "id": "umBGnHpUX1PS"
      },
      "execution_count": 9,
      "outputs": []
    },
    {
      "cell_type": "code",
      "source": [
        "df_shuffled = df.sample(frac=1, random_state=42).reset_index(drop=True)"
      ],
      "metadata": {
        "id": "e945FjnRXLAt"
      },
      "execution_count": 10,
      "outputs": []
    },
    {
      "cell_type": "code",
      "source": [
        "df_sampled = pd.DataFrame()\n",
        "df_sampled['text_input']= df_shuffled['Tweet'].head(120)\n",
        "df_sampled['output'] = df_shuffled['Target'].head(120)\n"
      ],
      "metadata": {
        "id": "l6QTgPqIcTN0"
      },
      "execution_count": 11,
      "outputs": []
    },
    {
      "cell_type": "code",
      "source": [
        "name = f'phase-generator-8'\n",
        "operation = genai.create_tuned_model(\n",
        "\n",
        "    source_model=base_model.name,\n",
        "    training_data=df_sampled,\n",
        "    id = name,\n",
        "    epoch_count = 2,\n",
        "    batch_size=4,\n",
        "    learning_rate=0.0001,\n",
        ")"
      ],
      "metadata": {
        "id": "iK5xJWfBNB3_"
      },
      "execution_count": null,
      "outputs": []
    },
    {
      "cell_type": "code",
      "source": [
        "import time\n",
        "\n",
        "for status in operation.wait_bar():\n",
        "  time.sleep(30)"
      ],
      "metadata": {
        "colab": {
          "base_uri": "https://localhost:8080/",
          "height": 49,
          "referenced_widgets": [
            "c33ca50ce44b4311acaffbca9f2a2e1b",
            "01e29e0eb49c45f3bb42881751c9e066",
            "90dfa0e30f3c47c5b21558b2f3a4ee1c",
            "9780a821fd6a4517a62b5eab96af7fee",
            "eef15bbaf05e4bcf87ad7d6f01e71e23",
            "35f62250e3a64f71834aea698ccf159a",
            "0cd77af7c0274e3e85e4c31735e099de",
            "23cc064d335644d7a1bd5f111e37b1f6",
            "5f7d51d1dd6a4e30b2ee22e251437310",
            "4d59e3d85a9e49268e9259509a9bd5e8",
            "58991618ff1d4dfd8bf0c6a28a51e01d"
          ]
        },
        "id": "Mbxtb7Rfeyzd",
        "outputId": "5317f708-22e2-40bb-ffa0-3987bf817e1f"
      },
      "execution_count": null,
      "outputs": [
        {
          "output_type": "display_data",
          "data": {
            "text/plain": [
              "  0%|          | 0/150 [00:00<?, ?it/s]"
            ],
            "application/vnd.jupyter.widget-view+json": {
              "version_major": 2,
              "version_minor": 0,
              "model_id": "c33ca50ce44b4311acaffbca9f2a2e1b"
            }
          },
          "metadata": {}
        }
      ]
    },
    {
      "cell_type": "code",
      "source": [
        "model = genai.get_tuned_model(f'tunedModels/phase-generator-7')\n",
        "\n",
        "model"
      ],
      "metadata": {
        "colab": {
          "base_uri": "https://localhost:8080/"
        },
        "id": "RXtmm8vZNGNu",
        "outputId": "4ad563aa-1206-4524-9f50-2c88c5fa5b36"
      },
      "execution_count": 109,
      "outputs": [
        {
          "output_type": "execute_result",
          "data": {
            "text/plain": [
              "TunedModel(name='tunedModels/phase-generator-7',\n",
              "           source_model='models/gemini-1.5-flash-001-tuning',\n",
              "           base_model='models/gemini-1.5-flash-001-tuning',\n",
              "           display_name='',\n",
              "           description='',\n",
              "           temperature=1.0,\n",
              "           top_p=0.95,\n",
              "           top_k=64,\n",
              "           state=<State.ACTIVE: 2>,\n",
              "           create_time=datetime.datetime(2024, 8, 21, 10, 28, 25, 455110, tzinfo=datetime.timezone.utc),\n",
              "           update_time=datetime.datetime(2024, 8, 21, 10, 44, 14, 271836, tzinfo=datetime.timezone.utc),\n",
              "           tuning_task=TuningTask(start_time=datetime.datetime(2024, 8, 21, 10, 28, 26, 74889, tzinfo=datetime.timezone.utc),\n",
              "                                  complete_time=datetime.datetime(2024, 8, 21, 10, 44, 14, 271836, tzinfo=datetime.timezone.utc),\n",
              "                                  snapshots=[...],\n",
              "                                  hyperparameters=Hyperparameters(epoch_count=5,\n",
              "                                                                  batch_size=4,\n",
              "                                                                  learning_rate=0.0001)))"
            ]
          },
          "metadata": {},
          "execution_count": 109
        }
      ]
    },
    {
      "cell_type": "code",
      "source": [
        "import pandas as pd\n",
        "import seaborn as sns\n",
        "\n",
        "model = operation.result()\n",
        "\n",
        "snapshots = pd.DataFrame(model.tuning_task.snapshots)\n",
        "\n",
        "sns.lineplot(data=snapshots, x = 'epoch', y='mean_loss')"
      ],
      "metadata": {
        "colab": {
          "base_uri": "https://localhost:8080/",
          "height": 211
        },
        "id": "4gSrdGZqnaIV",
        "outputId": "3724f824-b188-42a7-db74-e67b69584c26"
      },
      "execution_count": 14,
      "outputs": [
        {
          "output_type": "error",
          "ename": "NameError",
          "evalue": "name 'operation' is not defined",
          "traceback": [
            "\u001b[0;31m---------------------------------------------------------------------------\u001b[0m",
            "\u001b[0;31mNameError\u001b[0m                                 Traceback (most recent call last)",
            "\u001b[0;32m<ipython-input-14-a35529fc4ad9>\u001b[0m in \u001b[0;36m<cell line: 4>\u001b[0;34m()\u001b[0m\n\u001b[1;32m      2\u001b[0m \u001b[0;32mimport\u001b[0m \u001b[0mseaborn\u001b[0m \u001b[0;32mas\u001b[0m \u001b[0msns\u001b[0m\u001b[0;34m\u001b[0m\u001b[0;34m\u001b[0m\u001b[0m\n\u001b[1;32m      3\u001b[0m \u001b[0;34m\u001b[0m\u001b[0m\n\u001b[0;32m----> 4\u001b[0;31m \u001b[0mmodel\u001b[0m \u001b[0;34m=\u001b[0m \u001b[0moperation\u001b[0m\u001b[0;34m.\u001b[0m\u001b[0mresult\u001b[0m\u001b[0;34m(\u001b[0m\u001b[0;34m)\u001b[0m\u001b[0;34m\u001b[0m\u001b[0;34m\u001b[0m\u001b[0m\n\u001b[0m\u001b[1;32m      5\u001b[0m \u001b[0;34m\u001b[0m\u001b[0m\n\u001b[1;32m      6\u001b[0m \u001b[0msnapshots\u001b[0m \u001b[0;34m=\u001b[0m \u001b[0mpd\u001b[0m\u001b[0;34m.\u001b[0m\u001b[0mDataFrame\u001b[0m\u001b[0;34m(\u001b[0m\u001b[0mmodel\u001b[0m\u001b[0;34m.\u001b[0m\u001b[0mtuning_task\u001b[0m\u001b[0;34m.\u001b[0m\u001b[0msnapshots\u001b[0m\u001b[0;34m)\u001b[0m\u001b[0;34m\u001b[0m\u001b[0;34m\u001b[0m\u001b[0m\n",
            "\u001b[0;31mNameError\u001b[0m: name 'operation' is not defined"
          ]
        }
      ]
    },
    {
      "cell_type": "code",
      "source": [
        "import pandas as pd\n",
        "from google.generativeai.types import HarmCategory, HarmBlockThreshold\n",
        "import json"
      ],
      "metadata": {
        "id": "ktCFAEj1NHPP"
      },
      "execution_count": 30,
      "outputs": []
    },
    {
      "cell_type": "code",
      "source": [
        "df = pd.read_csv('/content/test_20.csv' , encoding='latin-1')"
      ],
      "metadata": {
        "id": "r4B7_xQ-PQxa"
      },
      "execution_count": 110,
      "outputs": []
    },
    {
      "cell_type": "code",
      "source": [
        "generation_config = {\n",
        "  \"temperature\": 1,\n",
        "  \"top_p\": 0.95,\n",
        "  \"top_k\": 64,\n",
        "  \"max_output_tokens\": 8192,\n",
        "  \"response_mime_type\": \"text/plain\",\n",
        "\n",
        "}\n",
        "\n",
        "model = genai.GenerativeModel(\n",
        "  model_name=\"tunedModels/phase-generator-7\",\n",
        "  generation_config=generation_config,\n",
        "\n",
        ")\n",
        "\n",
        "chat_session = model.start_chat(\n",
        "  history=[\n",
        "    {\n",
        "      \"role\": \"model\",\n",
        "      \"parts\": [\n",
        "        \"```json\\n{\\n  \\\"target\\\": \\\"Creationism\\\",\\n  \\\"stance\\\": \\\"Negative\\\" \\n}\\n``` \\n\",\n",
        "      ],\n",
        "    },\n",
        "    {\n",
        "      \"role\": \"model\",\n",
        "      \"parts\": [\n",
        "        \"```json\\n{\\n  \\\"target\\\": \\\"MeToo\\\", \\n  \\\"stance\\\": \\\"Against\\\" \\n}\\n```\",\n",
        "      ],\n",
        "    },\n",
        "\n",
        "    {\n",
        "      \"role\": \"model\",\n",
        "      \"parts\": [\n",
        "        \"```json\\n{\\n  \\\"target\\\": \\\"ClimateChange\\\",\\n  \\\"stance\\\": \\\"Favor\\\" \\n}'''\",\n",
        "      ],\n",
        "    },\n",
        "  ]\n",
        ")"
      ],
      "metadata": {
        "id": "XXi7fuLDPbhB"
      },
      "execution_count": 111,
      "outputs": []
    },
    {
      "cell_type": "code",
      "source": [
        "def predict_target_and_stance(tweet_text):\n",
        "    json_response = chat_session.send_message(\n",
        "        [\"find the implicit target of this tweet\"+tweet_text],safety_settings={\n",
        "            HarmCategory.HARM_CATEGORY_HATE_SPEECH: HarmBlockThreshold.BLOCK_NONE,\n",
        "            HarmCategory.HARM_CATEGORY_HARASSMENT: HarmBlockThreshold.BLOCK_NONE,\n",
        "            HarmCategory.HARM_CATEGORY_DANGEROUS_CONTENT: HarmBlockThreshold.BLOCK_NONE,\n",
        "        }\n",
        "    )\n",
        "\n",
        "    return json_response.to_dict()"
      ],
      "metadata": {
        "id": "dZqEtjMvPsjc"
      },
      "execution_count": 127,
      "outputs": []
    },
    {
      "cell_type": "code",
      "source": [
        "response_json = predict_target_and_stance(df['Tweet'][180])\n",
        "json_text=response_json['candidates'][0]['content']['parts'][0]['text']\n",
        "json_text_cleaned = json_text.strip('```json\\n').strip('\\n``` ')\n",
        "print(response_json)"
      ],
      "metadata": {
        "colab": {
          "base_uri": "https://localhost:8080/"
        },
        "id": "R9QrhFj_Jpse",
        "outputId": "690c2469-b50b-43b2-ce5b-f5f626f384d4"
      },
      "execution_count": 128,
      "outputs": [
        {
          "output_type": "stream",
          "name": "stdout",
          "text": [
            "{'candidates': [{'content': {'parts': [{'text': 'gun controldeath penalty'}], 'role': 'model'}, 'finish_reason': 1, 'index': 0, 'safety_ratings': [{'category': 9, 'probability': 1, 'blocked': False}, {'category': 8, 'probability': 1, 'blocked': False}, {'category': 7, 'probability': 1, 'blocked': False}, {'category': 10, 'probability': 1, 'blocked': False}], 'token_count': 0, 'grounding_attributions': []}], 'usage_metadata': {'prompt_token_count': 7357, 'candidates_token_count': 4, 'total_token_count': 7361, 'cached_content_token_count': 0}}\n"
          ]
        }
      ]
    },
    {
      "cell_type": "code",
      "source": [
        "df['Tweet'][190]"
      ],
      "metadata": {
        "colab": {
          "base_uri": "https://localhost:8080/",
          "height": 35
        },
        "id": "-jYpt964Zomt",
        "outputId": "436ca9ca-b49a-4293-c5f0-f69c0cca8d3e"
      },
      "execution_count": 108,
      "outputs": [
        {
          "output_type": "execute_result",
          "data": {
            "text/plain": [
              "'the number of years on the average spent in death row is years'"
            ],
            "application/vnd.google.colaboratory.intrinsic+json": {
              "type": "string"
            }
          },
          "metadata": {},
          "execution_count": 108
        }
      ]
    },
    {
      "cell_type": "code",
      "source": [],
      "metadata": {
        "colab": {
          "base_uri": "https://localhost:8080/"
        },
        "id": "dXsOmSslZRRB",
        "outputId": "be85027d-d487-4efa-ffb9-140346ce9e2c"
      },
      "execution_count": 105,
      "outputs": [
        {
          "output_type": "execute_result",
          "data": {
            "text/plain": [
              "{'cloning', 'cloningcloning'}"
            ]
          },
          "metadata": {},
          "execution_count": 105
        }
      ]
    },
    {
      "cell_type": "code",
      "source": [
        "df['Predictions'] = None\n",
        "\n",
        "for i in range(100):\n",
        "  response_json = predict_target_and_stance(df['Tweet'][i])\n",
        "  json_text=response_json['candidates'][0]['content']['parts'][0]['text']\n",
        "  json_text_cleaned = json_text.strip('```json\\n').strip('\\n``` ')\n",
        "  df.at[i, 'Predictions'] = json_text_cleaned"
      ],
      "metadata": {
        "id": "ij3OhuaIRC6g"
      },
      "execution_count": 117,
      "outputs": []
    },
    {
      "cell_type": "code",
      "source": [
        "for i in range(100,200):\n",
        "  response_json = predict_target_and_stance(df['Tweet'][i])\n",
        "  json_text=response_json['candidates'][0]['content']['parts'][0]['text']\n",
        "  json_text_cleaned = json_text.strip('```json\\n').strip('\\n``` ')\n",
        "  df.at[i, 'Predictions'] = json_text_cleaned"
      ],
      "metadata": {
        "id": "4yrP8StOPVE8"
      },
      "execution_count": 118,
      "outputs": []
    },
    {
      "cell_type": "code",
      "source": [
        "for i in range(200,300):\n",
        "  response_json = predict_target_and_stance(df['Tweet'][i])\n",
        "  json_text=response_json['candidates'][0]['content']['parts'][0]['text']\n",
        "  json_text_cleaned = json_text.strip('```json\\n').strip('\\n``` ')\n",
        "  df.at[i, 'Predictions'] = json_text_cleaned"
      ],
      "metadata": {
        "id": "TUeFWfYBhdnQ"
      },
      "execution_count": 136,
      "outputs": []
    },
    {
      "cell_type": "code",
      "source": [
        "for i in range(300,400):\n",
        "  response_json = predict_target_and_stance(df['Tweet'][i])\n",
        "  json_text=response_json['candidates'][0]['content']['parts'][0]['text']\n",
        "  json_text_cleaned = json_text.strip('```json\\n').strip('\\n``` ')\n",
        "  df.at[i, 'Predictions'] = json_text_cleaned"
      ],
      "metadata": {
        "id": "0FkzcH0SizOn"
      },
      "execution_count": null,
      "outputs": []
    },
    {
      "cell_type": "code",
      "source": [
        "for i in range(400,500):\n",
        "  response_json = predict_target_and_stance(df['Tweet'][i])\n",
        "  json_text=response_json['candidates'][0]['content']['parts'][0]['text']\n",
        "  json_text_cleaned = json_text.strip('```json\\n').strip('\\n``` ')\n",
        "  df.at[i, 'Predictions'] = json_text_cleaned"
      ],
      "metadata": {
        "id": "CoutHpZ9i2i3"
      },
      "execution_count": null,
      "outputs": []
    },
    {
      "cell_type": "code",
      "source": [
        "for i in range(500,600):\n",
        "  response_json = predict_target_and_stance(df['Tweet'][i])\n",
        "  json_text=response_json['candidates'][0]['content']['parts'][0]['text']\n",
        "  json_text_cleaned = json_text.strip('```json\\n').strip('\\n``` ')\n",
        "  df.at[i, 'Predictions'] = json_text_cleaned"
      ],
      "metadata": {
        "id": "HJJuOSFIi4QD"
      },
      "execution_count": null,
      "outputs": []
    },
    {
      "cell_type": "code",
      "source": [
        "for i in range(600,700):\n",
        "  response_json = predict_target_and_stance(df['Tweet'][i])\n",
        "  json_text=response_json['candidates'][0]['content']['parts'][0]['text']\n",
        "  json_text_cleaned = json_text.strip('```json\\n').strip('\\n``` ')\n",
        "  df.at[i, 'Predictions'] = json_text_cleaned"
      ],
      "metadata": {
        "id": "5qL-5sEei57A"
      },
      "execution_count": null,
      "outputs": []
    },
    {
      "cell_type": "code",
      "source": [
        "for i in range(700,800):\n",
        "  response_json = predict_target_and_stance(df['Tweet'][i])\n",
        "  json_text=response_json['candidates'][0]['content']['parts'][0]['text']\n",
        "  json_text_cleaned = json_text.strip('```json\\n').strip('\\n``` ')\n",
        "  df.at[i, 'Predictions'] = json_text_cleaned"
      ],
      "metadata": {
        "id": "-4wn2GXgi7cR"
      },
      "execution_count": null,
      "outputs": []
    },
    {
      "cell_type": "code",
      "source": [
        "for i in range(800,900):\n",
        "  response_json = predict_target_and_stance(df['Tweet'][i])\n",
        "  json_text=response_json['candidates'][0]['content']['parts'][0]['text']\n",
        "  json_text_cleaned = json_text.strip('```json\\n').strip('\\n``` ')\n",
        "  df.at[i, 'Predictions'] = json_text_cleaned"
      ],
      "metadata": {
        "id": "6ZqTcuvji86r"
      },
      "execution_count": null,
      "outputs": []
    },
    {
      "cell_type": "code",
      "source": [
        "for i in range(900,1000):\n",
        "  response_json = predict_target_and_stance(df['Tweet'][i])\n",
        "  json_text=response_json['candidates'][0]['content']['parts'][0]['text']\n",
        "  json_text_cleaned = json_text.strip('```json\\n').strip('\\n``` ')\n",
        "  df.at[i, 'Predictions'] = json_text_cleaned"
      ],
      "metadata": {
        "id": "axyyoPRHjO52"
      },
      "execution_count": null,
      "outputs": []
    },
    {
      "cell_type": "code",
      "source": [
        "for i in range(1000,1100):\n",
        "  response_json = predict_target_and_stance(df['Tweet'][i])\n",
        "  json_text=response_json['candidates'][0]['content']['parts'][0]['text']\n",
        "  json_text_cleaned = json_text.strip('```json\\n').strip('\\n``` ')\n",
        "  df.at[i, 'Predictions'] = json_text_cleaned"
      ],
      "metadata": {
        "id": "oCoKrGcsjSw0"
      },
      "execution_count": null,
      "outputs": []
    },
    {
      "cell_type": "code",
      "source": [
        "for i in range(1200,1300):\n",
        "  response_json = predict_target_and_stance(df['Tweet'][i])\n",
        "  json_text=response_json['candidates'][0]['content']['parts'][0]['text']\n",
        "  json_text_cleaned = json_text.strip('```json\\n').strip('\\n``` ')\n",
        "  df.at[i, 'Predictions'] = json_text_cleaned"
      ],
      "metadata": {
        "id": "Nmqeu6GOjUYg"
      },
      "execution_count": null,
      "outputs": []
    },
    {
      "cell_type": "code",
      "source": [
        "for i in range(1300,1400):\n",
        "  response_json = predict_target_and_stance(df['Tweet'][i])\n",
        "  json_text=response_json['candidates'][0]['content']['parts'][0]['text']\n",
        "  json_text_cleaned = json_text.strip('```json\\n').strip('\\n``` ')\n",
        "  df.at[i, 'Predictions'] = json_text_cleaned"
      ],
      "metadata": {
        "id": "UDv0d0bJjWB-"
      },
      "execution_count": null,
      "outputs": []
    },
    {
      "cell_type": "code",
      "source": [
        "for i in range(1400,1500):\n",
        "  response_json = predict_target_and_stance(df['Tweet'][i])\n",
        "  json_text=response_json['candidates'][0]['content']['parts'][0]['text']\n",
        "  json_text_cleaned = json_text.strip('```json\\n').strip('\\n``` ')\n",
        "  df.at[i, 'Predictions'] = json_text_cleaned"
      ],
      "metadata": {
        "id": "dxKtr0YwjXjR"
      },
      "execution_count": null,
      "outputs": []
    },
    {
      "cell_type": "code",
      "source": [
        "for i in range(1500,1600):\n",
        "  response_json = predict_target_and_stance(df['Tweet'][i])\n",
        "  json_text=response_json['candidates'][0]['content']['parts'][0]['text']\n",
        "  json_text_cleaned = json_text.strip('```json\\n').strip('\\n``` ')\n",
        "  df.at[i, 'Predictions'] = json_text_cleaned"
      ],
      "metadata": {
        "id": "3MOXSYxujmu4"
      },
      "execution_count": null,
      "outputs": []
    },
    {
      "cell_type": "code",
      "source": [
        "phrases_to_remove = ['gun control']\n",
        "\n",
        "# Remove the specified phrases from the text\n",
        "for p in df['Predictions']:\n",
        "    for phrase in phrases_to_remove:\n",
        "        p = p.replace(phrase, '').strip()"
      ],
      "metadata": {
        "id": "ayw7WJe5FJMX"
      },
      "execution_count": 137,
      "outputs": []
    },
    {
      "cell_type": "code",
      "source": [],
      "metadata": {
        "id": "zq6v_vvliY1m"
      },
      "execution_count": null,
      "outputs": []
    },
    {
      "cell_type": "code",
      "source": [
        "df[290:300]"
      ],
      "metadata": {
        "colab": {
          "base_uri": "https://localhost:8080/",
          "height": 991
        },
        "id": "PZP6i2MiGDLv",
        "outputId": "88c0f19b-2840-4538-a805-06274450b1dc"
      },
      "execution_count": 138,
      "outputs": [
        {
          "output_type": "execute_result",
          "data": {
            "text/plain": [
              "     Unnamed: 0.1  Unnamed: 0  \\\n",
              "290         45728       45729   \n",
              "291         45729       45730   \n",
              "292         45730       45731   \n",
              "293         45731       45732   \n",
              "294         45732       45733   \n",
              "295         45733       45734   \n",
              "296         45734       45735   \n",
              "297         45735       45736   \n",
              "298         45736       45737   \n",
              "299         45737       45738   \n",
              "\n",
              "                                                 Tweet         Target  \\\n",
              "290  in some countries it is still practiced while ...  death penalty   \n",
              "291  if we have the death sentence and deter future...  death penalty   \n",
              "292  proponents say that these figures clearly indi...  death penalty   \n",
              "293  although his first reaction was to wish that t...  death penalty   \n",
              "294   the ehrlich studies have been widely discredited  death penalty   \n",
              "295  we do not allow torturing the torturer or rapi...  death penalty   \n",
              "296         the court system is tremendously backed up  death penalty   \n",
              "297  the first part of the trial is the guilt phase...  death penalty   \n",
              "298  no comparable body of evidence contradicts tha...  death penalty   \n",
              "299  the us with the death penalty has a higher mur...  death penalty   \n",
              "\n",
              "      Stance  ID  Target_ID    Predictions  \n",
              "290     NONE   9         10   deathpenalty  \n",
              "291    FAVOR   9         10  death penalty  \n",
              "292    FAVOR   9         10  death penalty  \n",
              "293  AGAINST   9         10  death penalty  \n",
              "294     NONE   9         10  death penalty  \n",
              "295  AGAINST   9         10  death penalty  \n",
              "296     NONE   9         10  death penalty  \n",
              "297     NONE   9         10  death penalty  \n",
              "298     NONE   9         10  death penalty  \n",
              "299  AGAINST   9         10  death penalty  "
            ],
            "text/html": [
              "\n",
              "  <div id=\"df-12cc494b-8cd6-4582-b7c0-6fcb01dc81ad\" class=\"colab-df-container\">\n",
              "    <div>\n",
              "<style scoped>\n",
              "    .dataframe tbody tr th:only-of-type {\n",
              "        vertical-align: middle;\n",
              "    }\n",
              "\n",
              "    .dataframe tbody tr th {\n",
              "        vertical-align: top;\n",
              "    }\n",
              "\n",
              "    .dataframe thead th {\n",
              "        text-align: right;\n",
              "    }\n",
              "</style>\n",
              "<table border=\"1\" class=\"dataframe\">\n",
              "  <thead>\n",
              "    <tr style=\"text-align: right;\">\n",
              "      <th></th>\n",
              "      <th>Unnamed: 0.1</th>\n",
              "      <th>Unnamed: 0</th>\n",
              "      <th>Tweet</th>\n",
              "      <th>Target</th>\n",
              "      <th>Stance</th>\n",
              "      <th>ID</th>\n",
              "      <th>Target_ID</th>\n",
              "      <th>Predictions</th>\n",
              "    </tr>\n",
              "  </thead>\n",
              "  <tbody>\n",
              "    <tr>\n",
              "      <th>290</th>\n",
              "      <td>45728</td>\n",
              "      <td>45729</td>\n",
              "      <td>in some countries it is still practiced while ...</td>\n",
              "      <td>death penalty</td>\n",
              "      <td>NONE</td>\n",
              "      <td>9</td>\n",
              "      <td>10</td>\n",
              "      <td>deathpenalty</td>\n",
              "    </tr>\n",
              "    <tr>\n",
              "      <th>291</th>\n",
              "      <td>45729</td>\n",
              "      <td>45730</td>\n",
              "      <td>if we have the death sentence and deter future...</td>\n",
              "      <td>death penalty</td>\n",
              "      <td>FAVOR</td>\n",
              "      <td>9</td>\n",
              "      <td>10</td>\n",
              "      <td>death penalty</td>\n",
              "    </tr>\n",
              "    <tr>\n",
              "      <th>292</th>\n",
              "      <td>45730</td>\n",
              "      <td>45731</td>\n",
              "      <td>proponents say that these figures clearly indi...</td>\n",
              "      <td>death penalty</td>\n",
              "      <td>FAVOR</td>\n",
              "      <td>9</td>\n",
              "      <td>10</td>\n",
              "      <td>death penalty</td>\n",
              "    </tr>\n",
              "    <tr>\n",
              "      <th>293</th>\n",
              "      <td>45731</td>\n",
              "      <td>45732</td>\n",
              "      <td>although his first reaction was to wish that t...</td>\n",
              "      <td>death penalty</td>\n",
              "      <td>AGAINST</td>\n",
              "      <td>9</td>\n",
              "      <td>10</td>\n",
              "      <td>death penalty</td>\n",
              "    </tr>\n",
              "    <tr>\n",
              "      <th>294</th>\n",
              "      <td>45732</td>\n",
              "      <td>45733</td>\n",
              "      <td>the ehrlich studies have been widely discredited</td>\n",
              "      <td>death penalty</td>\n",
              "      <td>NONE</td>\n",
              "      <td>9</td>\n",
              "      <td>10</td>\n",
              "      <td>death penalty</td>\n",
              "    </tr>\n",
              "    <tr>\n",
              "      <th>295</th>\n",
              "      <td>45733</td>\n",
              "      <td>45734</td>\n",
              "      <td>we do not allow torturing the torturer or rapi...</td>\n",
              "      <td>death penalty</td>\n",
              "      <td>AGAINST</td>\n",
              "      <td>9</td>\n",
              "      <td>10</td>\n",
              "      <td>death penalty</td>\n",
              "    </tr>\n",
              "    <tr>\n",
              "      <th>296</th>\n",
              "      <td>45734</td>\n",
              "      <td>45735</td>\n",
              "      <td>the court system is tremendously backed up</td>\n",
              "      <td>death penalty</td>\n",
              "      <td>NONE</td>\n",
              "      <td>9</td>\n",
              "      <td>10</td>\n",
              "      <td>death penalty</td>\n",
              "    </tr>\n",
              "    <tr>\n",
              "      <th>297</th>\n",
              "      <td>45735</td>\n",
              "      <td>45736</td>\n",
              "      <td>the first part of the trial is the guilt phase...</td>\n",
              "      <td>death penalty</td>\n",
              "      <td>NONE</td>\n",
              "      <td>9</td>\n",
              "      <td>10</td>\n",
              "      <td>death penalty</td>\n",
              "    </tr>\n",
              "    <tr>\n",
              "      <th>298</th>\n",
              "      <td>45736</td>\n",
              "      <td>45737</td>\n",
              "      <td>no comparable body of evidence contradicts tha...</td>\n",
              "      <td>death penalty</td>\n",
              "      <td>NONE</td>\n",
              "      <td>9</td>\n",
              "      <td>10</td>\n",
              "      <td>death penalty</td>\n",
              "    </tr>\n",
              "    <tr>\n",
              "      <th>299</th>\n",
              "      <td>45737</td>\n",
              "      <td>45738</td>\n",
              "      <td>the us with the death penalty has a higher mur...</td>\n",
              "      <td>death penalty</td>\n",
              "      <td>AGAINST</td>\n",
              "      <td>9</td>\n",
              "      <td>10</td>\n",
              "      <td>death penalty</td>\n",
              "    </tr>\n",
              "  </tbody>\n",
              "</table>\n",
              "</div>\n",
              "    <div class=\"colab-df-buttons\">\n",
              "\n",
              "  <div class=\"colab-df-container\">\n",
              "    <button class=\"colab-df-convert\" onclick=\"convertToInteractive('df-12cc494b-8cd6-4582-b7c0-6fcb01dc81ad')\"\n",
              "            title=\"Convert this dataframe to an interactive table.\"\n",
              "            style=\"display:none;\">\n",
              "\n",
              "  <svg xmlns=\"http://www.w3.org/2000/svg\" height=\"24px\" viewBox=\"0 -960 960 960\">\n",
              "    <path d=\"M120-120v-720h720v720H120Zm60-500h600v-160H180v160Zm220 220h160v-160H400v160Zm0 220h160v-160H400v160ZM180-400h160v-160H180v160Zm440 0h160v-160H620v160ZM180-180h160v-160H180v160Zm440 0h160v-160H620v160Z\"/>\n",
              "  </svg>\n",
              "    </button>\n",
              "\n",
              "  <style>\n",
              "    .colab-df-container {\n",
              "      display:flex;\n",
              "      gap: 12px;\n",
              "    }\n",
              "\n",
              "    .colab-df-convert {\n",
              "      background-color: #E8F0FE;\n",
              "      border: none;\n",
              "      border-radius: 50%;\n",
              "      cursor: pointer;\n",
              "      display: none;\n",
              "      fill: #1967D2;\n",
              "      height: 32px;\n",
              "      padding: 0 0 0 0;\n",
              "      width: 32px;\n",
              "    }\n",
              "\n",
              "    .colab-df-convert:hover {\n",
              "      background-color: #E2EBFA;\n",
              "      box-shadow: 0px 1px 2px rgba(60, 64, 67, 0.3), 0px 1px 3px 1px rgba(60, 64, 67, 0.15);\n",
              "      fill: #174EA6;\n",
              "    }\n",
              "\n",
              "    .colab-df-buttons div {\n",
              "      margin-bottom: 4px;\n",
              "    }\n",
              "\n",
              "    [theme=dark] .colab-df-convert {\n",
              "      background-color: #3B4455;\n",
              "      fill: #D2E3FC;\n",
              "    }\n",
              "\n",
              "    [theme=dark] .colab-df-convert:hover {\n",
              "      background-color: #434B5C;\n",
              "      box-shadow: 0px 1px 3px 1px rgba(0, 0, 0, 0.15);\n",
              "      filter: drop-shadow(0px 1px 2px rgba(0, 0, 0, 0.3));\n",
              "      fill: #FFFFFF;\n",
              "    }\n",
              "  </style>\n",
              "\n",
              "    <script>\n",
              "      const buttonEl =\n",
              "        document.querySelector('#df-12cc494b-8cd6-4582-b7c0-6fcb01dc81ad button.colab-df-convert');\n",
              "      buttonEl.style.display =\n",
              "        google.colab.kernel.accessAllowed ? 'block' : 'none';\n",
              "\n",
              "      async function convertToInteractive(key) {\n",
              "        const element = document.querySelector('#df-12cc494b-8cd6-4582-b7c0-6fcb01dc81ad');\n",
              "        const dataTable =\n",
              "          await google.colab.kernel.invokeFunction('convertToInteractive',\n",
              "                                                    [key], {});\n",
              "        if (!dataTable) return;\n",
              "\n",
              "        const docLinkHtml = 'Like what you see? Visit the ' +\n",
              "          '<a target=\"_blank\" href=https://colab.research.google.com/notebooks/data_table.ipynb>data table notebook</a>'\n",
              "          + ' to learn more about interactive tables.';\n",
              "        element.innerHTML = '';\n",
              "        dataTable['output_type'] = 'display_data';\n",
              "        await google.colab.output.renderOutput(dataTable, element);\n",
              "        const docLink = document.createElement('div');\n",
              "        docLink.innerHTML = docLinkHtml;\n",
              "        element.appendChild(docLink);\n",
              "      }\n",
              "    </script>\n",
              "  </div>\n",
              "\n",
              "\n",
              "<div id=\"df-90ac1708-e1f9-4b27-991a-e3cb890ab402\">\n",
              "  <button class=\"colab-df-quickchart\" onclick=\"quickchart('df-90ac1708-e1f9-4b27-991a-e3cb890ab402')\"\n",
              "            title=\"Suggest charts\"\n",
              "            style=\"display:none;\">\n",
              "\n",
              "<svg xmlns=\"http://www.w3.org/2000/svg\" height=\"24px\"viewBox=\"0 0 24 24\"\n",
              "     width=\"24px\">\n",
              "    <g>\n",
              "        <path d=\"M19 3H5c-1.1 0-2 .9-2 2v14c0 1.1.9 2 2 2h14c1.1 0 2-.9 2-2V5c0-1.1-.9-2-2-2zM9 17H7v-7h2v7zm4 0h-2V7h2v10zm4 0h-2v-4h2v4z\"/>\n",
              "    </g>\n",
              "</svg>\n",
              "  </button>\n",
              "\n",
              "<style>\n",
              "  .colab-df-quickchart {\n",
              "      --bg-color: #E8F0FE;\n",
              "      --fill-color: #1967D2;\n",
              "      --hover-bg-color: #E2EBFA;\n",
              "      --hover-fill-color: #174EA6;\n",
              "      --disabled-fill-color: #AAA;\n",
              "      --disabled-bg-color: #DDD;\n",
              "  }\n",
              "\n",
              "  [theme=dark] .colab-df-quickchart {\n",
              "      --bg-color: #3B4455;\n",
              "      --fill-color: #D2E3FC;\n",
              "      --hover-bg-color: #434B5C;\n",
              "      --hover-fill-color: #FFFFFF;\n",
              "      --disabled-bg-color: #3B4455;\n",
              "      --disabled-fill-color: #666;\n",
              "  }\n",
              "\n",
              "  .colab-df-quickchart {\n",
              "    background-color: var(--bg-color);\n",
              "    border: none;\n",
              "    border-radius: 50%;\n",
              "    cursor: pointer;\n",
              "    display: none;\n",
              "    fill: var(--fill-color);\n",
              "    height: 32px;\n",
              "    padding: 0;\n",
              "    width: 32px;\n",
              "  }\n",
              "\n",
              "  .colab-df-quickchart:hover {\n",
              "    background-color: var(--hover-bg-color);\n",
              "    box-shadow: 0 1px 2px rgba(60, 64, 67, 0.3), 0 1px 3px 1px rgba(60, 64, 67, 0.15);\n",
              "    fill: var(--button-hover-fill-color);\n",
              "  }\n",
              "\n",
              "  .colab-df-quickchart-complete:disabled,\n",
              "  .colab-df-quickchart-complete:disabled:hover {\n",
              "    background-color: var(--disabled-bg-color);\n",
              "    fill: var(--disabled-fill-color);\n",
              "    box-shadow: none;\n",
              "  }\n",
              "\n",
              "  .colab-df-spinner {\n",
              "    border: 2px solid var(--fill-color);\n",
              "    border-color: transparent;\n",
              "    border-bottom-color: var(--fill-color);\n",
              "    animation:\n",
              "      spin 1s steps(1) infinite;\n",
              "  }\n",
              "\n",
              "  @keyframes spin {\n",
              "    0% {\n",
              "      border-color: transparent;\n",
              "      border-bottom-color: var(--fill-color);\n",
              "      border-left-color: var(--fill-color);\n",
              "    }\n",
              "    20% {\n",
              "      border-color: transparent;\n",
              "      border-left-color: var(--fill-color);\n",
              "      border-top-color: var(--fill-color);\n",
              "    }\n",
              "    30% {\n",
              "      border-color: transparent;\n",
              "      border-left-color: var(--fill-color);\n",
              "      border-top-color: var(--fill-color);\n",
              "      border-right-color: var(--fill-color);\n",
              "    }\n",
              "    40% {\n",
              "      border-color: transparent;\n",
              "      border-right-color: var(--fill-color);\n",
              "      border-top-color: var(--fill-color);\n",
              "    }\n",
              "    60% {\n",
              "      border-color: transparent;\n",
              "      border-right-color: var(--fill-color);\n",
              "    }\n",
              "    80% {\n",
              "      border-color: transparent;\n",
              "      border-right-color: var(--fill-color);\n",
              "      border-bottom-color: var(--fill-color);\n",
              "    }\n",
              "    90% {\n",
              "      border-color: transparent;\n",
              "      border-bottom-color: var(--fill-color);\n",
              "    }\n",
              "  }\n",
              "</style>\n",
              "\n",
              "  <script>\n",
              "    async function quickchart(key) {\n",
              "      const quickchartButtonEl =\n",
              "        document.querySelector('#' + key + ' button');\n",
              "      quickchartButtonEl.disabled = true;  // To prevent multiple clicks.\n",
              "      quickchartButtonEl.classList.add('colab-df-spinner');\n",
              "      try {\n",
              "        const charts = await google.colab.kernel.invokeFunction(\n",
              "            'suggestCharts', [key], {});\n",
              "      } catch (error) {\n",
              "        console.error('Error during call to suggestCharts:', error);\n",
              "      }\n",
              "      quickchartButtonEl.classList.remove('colab-df-spinner');\n",
              "      quickchartButtonEl.classList.add('colab-df-quickchart-complete');\n",
              "    }\n",
              "    (() => {\n",
              "      let quickchartButtonEl =\n",
              "        document.querySelector('#df-90ac1708-e1f9-4b27-991a-e3cb890ab402 button');\n",
              "      quickchartButtonEl.style.display =\n",
              "        google.colab.kernel.accessAllowed ? 'block' : 'none';\n",
              "    })();\n",
              "  </script>\n",
              "</div>\n",
              "\n",
              "    </div>\n",
              "  </div>\n"
            ],
            "application/vnd.google.colaboratory.intrinsic+json": {
              "type": "dataframe",
              "summary": "{\n  \"name\": \"df[290:300]\",\n  \"rows\": 10,\n  \"fields\": [\n    {\n      \"column\": \"Unnamed: 0.1\",\n      \"properties\": {\n        \"dtype\": \"number\",\n        \"std\": 3,\n        \"min\": 45728,\n        \"max\": 45737,\n        \"num_unique_values\": 10,\n        \"samples\": [\n          45736,\n          45729,\n          45733\n        ],\n        \"semantic_type\": \"\",\n        \"description\": \"\"\n      }\n    },\n    {\n      \"column\": \"Unnamed: 0\",\n      \"properties\": {\n        \"dtype\": \"number\",\n        \"std\": 3,\n        \"min\": 45729,\n        \"max\": 45738,\n        \"num_unique_values\": 10,\n        \"samples\": [\n          45737,\n          45730,\n          45734\n        ],\n        \"semantic_type\": \"\",\n        \"description\": \"\"\n      }\n    },\n    {\n      \"column\": \"Tweet\",\n      \"properties\": {\n        \"dtype\": \"string\",\n        \"num_unique_values\": 10,\n        \"samples\": [\n          \"no comparable body of evidence contradicts that conclusion\",\n          \"if we have the death sentence and deter future murderers we spared the lives of future victims the prospective murderers gain too they are spared punishment because they were deterred\",\n          \"we do not allow torturing the torturer or raping the rapist\"\n        ],\n        \"semantic_type\": \"\",\n        \"description\": \"\"\n      }\n    },\n    {\n      \"column\": \"Target\",\n      \"properties\": {\n        \"dtype\": \"category\",\n        \"num_unique_values\": 1,\n        \"samples\": [\n          \"death penalty\"\n        ],\n        \"semantic_type\": \"\",\n        \"description\": \"\"\n      }\n    },\n    {\n      \"column\": \"Stance\",\n      \"properties\": {\n        \"dtype\": \"category\",\n        \"num_unique_values\": 3,\n        \"samples\": [\n          \"NONE\"\n        ],\n        \"semantic_type\": \"\",\n        \"description\": \"\"\n      }\n    },\n    {\n      \"column\": \"ID\",\n      \"properties\": {\n        \"dtype\": \"number\",\n        \"std\": 0,\n        \"min\": 9,\n        \"max\": 9,\n        \"num_unique_values\": 1,\n        \"samples\": [\n          9\n        ],\n        \"semantic_type\": \"\",\n        \"description\": \"\"\n      }\n    },\n    {\n      \"column\": \"Target_ID\",\n      \"properties\": {\n        \"dtype\": \"number\",\n        \"std\": 0,\n        \"min\": 10,\n        \"max\": 10,\n        \"num_unique_values\": 1,\n        \"samples\": [\n          10\n        ],\n        \"semantic_type\": \"\",\n        \"description\": \"\"\n      }\n    },\n    {\n      \"column\": \"Predictions\",\n      \"properties\": {\n        \"dtype\": \"category\",\n        \"num_unique_values\": 2,\n        \"samples\": [\n          \"death penalty\"\n        ],\n        \"semantic_type\": \"\",\n        \"description\": \"\"\n      }\n    }\n  ]\n}"
            }
          },
          "metadata": {},
          "execution_count": 138
        }
      ]
    },
    {
      "cell_type": "code",
      "source": [
        "# Assuming you want to evaluate on the first 200 samples\n",
        "target_accuracy = accuracy_score(df['Target'][:200], prediction[:200])\n",
        "target_classification_report = classification_report(df['Target'][:200], df['Predictions'][:200])\n",
        "\n",
        "print(f\"Target Accuracy: {target_accuracy}\")\n",
        "print(\"Target Classification Report:\")\n",
        "print(target_classification_report)"
      ],
      "metadata": {
        "id": "8BNC5jTzTYfy",
        "colab": {
          "base_uri": "https://localhost:8080/"
        },
        "outputId": "59912e46-c9b1-4ec8-f5a8-af5008079783"
      },
      "execution_count": 135,
      "outputs": [
        {
          "output_type": "stream",
          "name": "stdout",
          "text": [
            "Target Accuracy: 0.46\n",
            "Target Classification Report:\n",
            "                                       precision    recall  f1-score   support\n",
            "\n",
            "                                            0.00      0.00      0.00         0\n",
            "Genetically Modified Organisms (GMOs)       0.00      0.00      0.00         0\n",
            "                             abortion       0.00      0.00      0.00         0\n",
            "                              cloning       1.00      0.93      0.96        96\n",
            "                    cloningguncloning       0.00      0.00      0.00         0\n",
            "                    cloningguncontrol       0.00      0.00      0.00         0\n",
            "                        death penalty       1.00      0.93      0.97       104\n",
            "                 death penaltycloning       0.00      0.00      0.00         0\n",
            "                     death penaltygun       0.00      0.00      0.00         0\n",
            "              guncontroldeath penalty       0.00      0.00      0.00         0\n",
            "\n",
            "                             accuracy                           0.93       200\n",
            "                            macro avg       0.20      0.19      0.19       200\n",
            "                         weighted avg       1.00      0.93      0.96       200\n",
            "\n"
          ]
        },
        {
          "output_type": "stream",
          "name": "stderr",
          "text": [
            "/usr/local/lib/python3.10/dist-packages/sklearn/metrics/_classification.py:1471: UndefinedMetricWarning: Recall and F-score are ill-defined and being set to 0.0 in labels with no true samples. Use `zero_division` parameter to control this behavior.\n",
            "  _warn_prf(average, modifier, msg_start, len(result))\n",
            "/usr/local/lib/python3.10/dist-packages/sklearn/metrics/_classification.py:1471: UndefinedMetricWarning: Recall and F-score are ill-defined and being set to 0.0 in labels with no true samples. Use `zero_division` parameter to control this behavior.\n",
            "  _warn_prf(average, modifier, msg_start, len(result))\n",
            "/usr/local/lib/python3.10/dist-packages/sklearn/metrics/_classification.py:1471: UndefinedMetricWarning: Recall and F-score are ill-defined and being set to 0.0 in labels with no true samples. Use `zero_division` parameter to control this behavior.\n",
            "  _warn_prf(average, modifier, msg_start, len(result))\n"
          ]
        }
      ]
    },
    {
      "cell_type": "code",
      "source": [
        "import pandas as pd\n",
        "import seaborn as sns\n",
        "\n",
        "model = operation.result()\n",
        "\n",
        "snapshots = pd.DataFrame(model.tuning_task.snapshots)\n",
        "\n",
        "sns.lineplot(data=snapshots, x = 'epoch', y='mean_loss')"
      ],
      "metadata": {
        "id": "Y7aYHkwKTjAS"
      },
      "execution_count": null,
      "outputs": []
    }
  ]
}