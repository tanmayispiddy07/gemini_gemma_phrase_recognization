{
  "cells": [
    {
      "cell_type": "markdown",
      "metadata": {
        "id": "view-in-github",
        "colab_type": "text"
      },
      "source": [
        "<a href=\"https://colab.research.google.com/github/tanmayispiddy07/gemini_phrase_recognization/blob/main/phase_generator_2.ipynb\" target=\"_parent\"><img src=\"https://colab.research.google.com/assets/colab-badge.svg\" alt=\"Open In Colab\"/></a>"
      ]
    },
    {
      "cell_type": "code",
      "execution_count": null,
      "metadata": {
        "id": "JT7e9THVYKFN"
      },
      "outputs": [],
      "source": [
        "import pandas as pd"
      ]
    },
    {
      "cell_type": "markdown",
      "metadata": {
        "id": "kTCE4eALhqR8"
      },
      "source": [
        "this is used to add the genai authorisation to our notebook"
      ]
    },
    {
      "cell_type": "code",
      "execution_count": null,
      "metadata": {
        "colab": {
          "base_uri": "https://localhost:8080/"
        },
        "id": "5P30IwC1Mei5",
        "outputId": "3bb66d55-337b-4f26-ba14-8677bf715e04"
      },
      "outputs": [
        {
          "name": "stdout",
          "output_type": "stream",
          "text": [
            "You are authorizing client libraries without access to a web browser. Please run the following command on a machine with a web browser and copy its output back here. Make sure the installed gcloud version is 372.0.0 or newer.\n",
            "\n",
            "gcloud auth application-default login --remote-bootstrap=\"https://accounts.google.com/o/oauth2/auth?response_type=code&client_id=9418359443-nldovmhh4iq7db59e4311n94tounuk1g.apps.googleusercontent.com&scope=https%3A%2F%2Fwww.googleapis.com%2Fauth%2Fcloud-platform+https%3A%2F%2Fwww.googleapis.com%2Fauth%2Fgenerative-language.tuning&state=bsphrQrnmomjNOw4GsBpZfOAQJe2ad&access_type=offline&code_challenge=S7eO4W0OR_v0d-Qn-Wbhc4wSHNmr3mFarHA151O_QkM&code_challenge_method=S256&token_usage=remote\"\n",
            "\n",
            "\n",
            "Enter the output of the above command: https://localhost:8085/?state=bsphrQrnmomjNOw4GsBpZfOAQJe2ad&code=4/0AQlEd8ypboJcwFvn5DItNHHgZzBIT76ipcO4lh1MddyTR9aEbIqvL_RJjegBMjC29in8OA&scope=https://www.googleapis.com/auth/cloud-platform%20https://www.googleapis.com/auth/generative-language.tuning\n",
            "\n",
            "Credentials saved to file: [/content/.config/application_default_credentials.json]\n",
            "\n",
            "These credentials will be used by any library that requests Application Default Credentials (ADC).\n"
          ]
        }
      ],
      "source": [
        "import os\n",
        "if 'COLAB_RELEASE_TAG' in os.environ:\n",
        "  from google.colab import userdata\n",
        "  import pathlib\n",
        "  pathlib.Path('/content/client_secret.json').write_text(userdata.get('CLIENT_SECRET'))\n",
        "\n",
        "  # Use `--no-browser` in colab\n",
        "  !gcloud auth application-default login --no-browser --client-id-file client_secret.json --scopes='https://www.googleapis.com/auth/cloud-platform,https://www.googleapis.com/auth/generative-language.tuning'\n",
        "else:\n",
        "  !gcloud auth application-default login --client-id-file client_secret.json --scopes='https://www.googleapis.com/auth/cloud-platform,https://www.googleapis.com/auth/generative-language.tuning'"
      ]
    },
    {
      "cell_type": "markdown",
      "metadata": {
        "id": "8lC8uI09h8Wm"
      },
      "source": [
        "INSTALL AND IMPORT THE GOOGLE GEN AI TO UTLIZE THE GEMINI AND GEMMA MODELS"
      ]
    },
    {
      "cell_type": "markdown",
      "metadata": {
        "id": "tzCHS_Ohh8Bl"
      },
      "source": []
    },
    {
      "cell_type": "code",
      "execution_count": null,
      "metadata": {
        "id": "hJ2KY4cCM14W"
      },
      "outputs": [],
      "source": [
        "!pip install -q google-generativeai"
      ]
    },
    {
      "cell_type": "code",
      "execution_count": null,
      "metadata": {
        "id": "OQsRDV2HMyCg"
      },
      "outputs": [],
      "source": [
        "import google.generativeai as genai"
      ]
    },
    {
      "cell_type": "markdown",
      "metadata": {
        "id": "N-QkWuoJiJpg"
      },
      "source": [
        "THIS CODE IS USE TO RETRIVE THE LIST OF THE MODELS IN YOUR GOOGLE CLOUD"
      ]
    },
    {
      "cell_type": "code",
      "execution_count": null,
      "metadata": {
        "colab": {
          "base_uri": "https://localhost:8080/"
        },
        "id": "GZ6NhVpPM4si",
        "outputId": "1962eecf-873b-40b4-e960-d03ca637b8b2"
      },
      "outputs": [
        {
          "name": "stdout",
          "output_type": "stream",
          "text": [
            "models/chat-bison-001\n",
            "models/text-bison-001\n",
            "models/embedding-gecko-001\n",
            "models/gemini-1.0-pro-latest\n",
            "models/gemini-1.0-pro\n",
            "models/gemini-pro\n",
            "models/gemini-1.0-pro-001\n",
            "models/gemini-1.0-pro-vision-latest\n",
            "models/gemini-pro-vision\n",
            "models/gemini-1.5-pro-latest\n",
            "models/gemini-1.5-pro-001\n",
            "models/gemini-1.5-pro\n",
            "models/gemini-1.5-pro-exp-0801\n",
            "models/gemini-1.5-pro-exp-0827\n",
            "models/gemini-1.5-flash-latest\n",
            "models/gemini-1.5-flash-001\n",
            "models/gemini-1.5-flash-001-tuning\n",
            "models/gemini-1.5-flash\n",
            "models/gemini-1.5-flash-exp-0827\n",
            "models/gemini-1.5-flash-8b-exp-0827\n"
          ]
        }
      ],
      "source": [
        "for i, m in zip(range(20), genai.list_models()):\n",
        "  print(m.name)"
      ]
    },
    {
      "cell_type": "markdown",
      "metadata": {
        "id": "k0dmv4JpiS3h"
      },
      "source": [
        "BEFORE CREATING A TUNED MODEL WE MUST SELECT THE BASE MODEL TO TUNE IT"
      ]
    },
    {
      "cell_type": "code",
      "execution_count": null,
      "metadata": {
        "colab": {
          "base_uri": "https://localhost:8080/"
        },
        "id": "vHk-WRb2M7_R",
        "outputId": "1c45a682-e518-4e2b-f356-3cd3dd5fb61c"
      },
      "outputs": [
        {
          "data": {
            "text/plain": [
              "Model(name='models/gemini-1.5-flash-001-tuning',\n",
              "      base_model_id='',\n",
              "      version='001',\n",
              "      display_name='Gemini 1.5 Flash 001 Tuning',\n",
              "      description='Fast and versatile multimodal model for scaling across diverse tasks',\n",
              "      input_token_limit=16384,\n",
              "      output_token_limit=8192,\n",
              "      supported_generation_methods=['generateContent', 'countTokens', 'createTunedModel'],\n",
              "      temperature=1.0,\n",
              "      max_temperature=2.0,\n",
              "      top_p=0.95,\n",
              "      top_k=64)"
            ]
          },
          "execution_count": 6,
          "metadata": {},
          "output_type": "execute_result"
        }
      ],
      "source": [
        "base_model = [\n",
        "    m for m in genai.list_models()\n",
        "    if \"createTunedModel\" in m.supported_generation_methods][1]\n",
        "base_model"
      ]
    },
    {
      "cell_type": "code",
      "execution_count": null,
      "metadata": {
        "id": "LKTgFuUlakns"
      },
      "outputs": [],
      "source": []
    },
    {
      "cell_type": "markdown",
      "metadata": {
        "id": "yh8TIqdaieCC"
      },
      "source": [
        "LOADING THE TRAIN DATA"
      ]
    },
    {
      "cell_type": "code",
      "execution_count": null,
      "metadata": {
        "id": "umBGnHpUX1PS"
      },
      "outputs": [],
      "source": [
        "df = pd.read_csv('/content/train_random_632.csv', encoding ='latin-1')"
      ]
    },
    {
      "cell_type": "markdown",
      "metadata": {
        "id": "mU2jcy3NijF5"
      },
      "source": [
        "RANDOMIZING THE TRAIN DATESET WHICH WILLL BE USED FOR EFFICENT TRANING"
      ]
    },
    {
      "cell_type": "code",
      "execution_count": null,
      "metadata": {
        "colab": {
          "base_uri": "https://localhost:8080/",
          "height": 276
        },
        "id": "y2gLoqawbbUM",
        "outputId": "67e6cb1b-f2c0-4bd3-e729-9e2f613de2e0"
      },
      "outputs": [
        {
          "data": {
            "application/vnd.google.colaboratory.intrinsic+json": {
              "summary": "{\n  \"name\": \"df_shuffled\",\n  \"rows\": 10080,\n  \"fields\": [\n    {\n      \"column\": \"Tweet\",\n      \"properties\": {\n        \"dtype\": \"string\",\n        \"num_unique_values\": 9643,\n        \"samples\": [\n          \"punishdem yo im forreal over this shit with the mask this is getting ridiculous every fucking day fuck them and their masks im over it\",\n          \"elephants have been known to throw various objects\",\n          \"criminals from everywhere he said are attracted to pueblo because they think it is a good place to grow cannabis\"\n        ],\n        \"semantic_type\": \"\",\n        \"description\": \"\"\n      }\n    },\n    {\n      \"column\": \"Target\",\n      \"properties\": {\n        \"dtype\": \"category\",\n        \"num_unique_values\": 16,\n        \"samples\": [\n          \"nuclear energy\",\n          \"school uniforms\",\n          \"Feminist Movement\"\n        ],\n        \"semantic_type\": \"\",\n        \"description\": \"\"\n      }\n    },\n    {\n      \"column\": \"Stance\",\n      \"properties\": {\n        \"dtype\": \"category\",\n        \"num_unique_values\": 3,\n        \"samples\": [\n          \"NONE\",\n          \"AGAINST\",\n          \"FAVOR\"\n        ],\n        \"semantic_type\": \"\",\n        \"description\": \"\"\n      }\n    },\n    {\n      \"column\": \"ID\",\n      \"properties\": {\n        \"dtype\": \"number\",\n        \"std\": 4,\n        \"min\": 0,\n        \"max\": 14,\n        \"num_unique_values\": 15,\n        \"samples\": [\n          4,\n          5,\n          13\n        ],\n        \"semantic_type\": \"\",\n        \"description\": \"\"\n      }\n    },\n    {\n      \"column\": \"Target_ID\",\n      \"properties\": {\n        \"dtype\": \"number\",\n        \"std\": 4,\n        \"min\": 0,\n        \"max\": 15,\n        \"num_unique_values\": 16,\n        \"samples\": [\n          14,\n          15,\n          1\n        ],\n        \"semantic_type\": \"\",\n        \"description\": \"\"\n      }\n    },\n    {\n      \"column\": \"Dataset_id\",\n      \"properties\": {\n        \"dtype\": \"number\",\n        \"std\": 0,\n        \"min\": 0,\n        \"max\": 2,\n        \"num_unique_values\": 3,\n        \"samples\": [\n          1,\n          0,\n          2\n        ],\n        \"semantic_type\": \"\",\n        \"description\": \"\"\n      }\n    }\n  ]\n}",
              "type": "dataframe",
              "variable_name": "df_shuffled"
            },
            "text/html": [
              "\n",
              "  <div id=\"df-89029303-6bd8-4a99-ab10-d3c2ac425c96\" class=\"colab-df-container\">\n",
              "    <div>\n",
              "<style scoped>\n",
              "    .dataframe tbody tr th:only-of-type {\n",
              "        vertical-align: middle;\n",
              "    }\n",
              "\n",
              "    .dataframe tbody tr th {\n",
              "        vertical-align: top;\n",
              "    }\n",
              "\n",
              "    .dataframe thead th {\n",
              "        text-align: right;\n",
              "    }\n",
              "</style>\n",
              "<table border=\"1\" class=\"dataframe\">\n",
              "  <thead>\n",
              "    <tr style=\"text-align: right;\">\n",
              "      <th></th>\n",
              "      <th>Tweet</th>\n",
              "      <th>Target</th>\n",
              "      <th>Stance</th>\n",
              "      <th>ID</th>\n",
              "      <th>Target_ID</th>\n",
              "      <th>Dataset_id</th>\n",
              "    </tr>\n",
              "  </thead>\n",
              "  <tbody>\n",
              "    <tr>\n",
              "      <th>0</th>\n",
              "      <td>but i believe that the government will put it ...</td>\n",
              "      <td>nuclear energy</td>\n",
              "      <td>NONE</td>\n",
              "      <td>13</td>\n",
              "      <td>14</td>\n",
              "      <td>1</td>\n",
              "    </tr>\n",
              "    <tr>\n",
              "      <th>1</th>\n",
              "      <td>everyone looks the same dreary and vulgar</td>\n",
              "      <td>school uniforms</td>\n",
              "      <td>AGAINST</td>\n",
              "      <td>14</td>\n",
              "      <td>15</td>\n",
              "      <td>1</td>\n",
              "    </tr>\n",
              "    <tr>\n",
              "      <th>2</th>\n",
              "      <td>put plainly if somebody believes that they are...</td>\n",
              "      <td>gun control</td>\n",
              "      <td>FAVOR</td>\n",
              "      <td>10</td>\n",
              "      <td>11</td>\n",
              "      <td>1</td>\n",
              "    </tr>\n",
              "    <tr>\n",
              "      <th>3</th>\n",
              "      <td>people that are surprising trump fiorina why c...</td>\n",
              "      <td>Hillary Clinton</td>\n",
              "      <td>NONE</td>\n",
              "      <td>2</td>\n",
              "      <td>2</td>\n",
              "      <td>0</td>\n",
              "    </tr>\n",
              "    <tr>\n",
              "      <th>4</th>\n",
              "      <td>in christ we are righteous and in practice we ...</td>\n",
              "      <td>Atheism</td>\n",
              "      <td>AGAINST</td>\n",
              "      <td>0</td>\n",
              "      <td>0</td>\n",
              "      <td>0</td>\n",
              "    </tr>\n",
              "  </tbody>\n",
              "</table>\n",
              "</div>\n",
              "    <div class=\"colab-df-buttons\">\n",
              "\n",
              "  <div class=\"colab-df-container\">\n",
              "    <button class=\"colab-df-convert\" onclick=\"convertToInteractive('df-89029303-6bd8-4a99-ab10-d3c2ac425c96')\"\n",
              "            title=\"Convert this dataframe to an interactive table.\"\n",
              "            style=\"display:none;\">\n",
              "\n",
              "  <svg xmlns=\"http://www.w3.org/2000/svg\" height=\"24px\" viewBox=\"0 -960 960 960\">\n",
              "    <path d=\"M120-120v-720h720v720H120Zm60-500h600v-160H180v160Zm220 220h160v-160H400v160Zm0 220h160v-160H400v160ZM180-400h160v-160H180v160Zm440 0h160v-160H620v160ZM180-180h160v-160H180v160Zm440 0h160v-160H620v160Z\"/>\n",
              "  </svg>\n",
              "    </button>\n",
              "\n",
              "  <style>\n",
              "    .colab-df-container {\n",
              "      display:flex;\n",
              "      gap: 12px;\n",
              "    }\n",
              "\n",
              "    .colab-df-convert {\n",
              "      background-color: #E8F0FE;\n",
              "      border: none;\n",
              "      border-radius: 50%;\n",
              "      cursor: pointer;\n",
              "      display: none;\n",
              "      fill: #1967D2;\n",
              "      height: 32px;\n",
              "      padding: 0 0 0 0;\n",
              "      width: 32px;\n",
              "    }\n",
              "\n",
              "    .colab-df-convert:hover {\n",
              "      background-color: #E2EBFA;\n",
              "      box-shadow: 0px 1px 2px rgba(60, 64, 67, 0.3), 0px 1px 3px 1px rgba(60, 64, 67, 0.15);\n",
              "      fill: #174EA6;\n",
              "    }\n",
              "\n",
              "    .colab-df-buttons div {\n",
              "      margin-bottom: 4px;\n",
              "    }\n",
              "\n",
              "    [theme=dark] .colab-df-convert {\n",
              "      background-color: #3B4455;\n",
              "      fill: #D2E3FC;\n",
              "    }\n",
              "\n",
              "    [theme=dark] .colab-df-convert:hover {\n",
              "      background-color: #434B5C;\n",
              "      box-shadow: 0px 1px 3px 1px rgba(0, 0, 0, 0.15);\n",
              "      filter: drop-shadow(0px 1px 2px rgba(0, 0, 0, 0.3));\n",
              "      fill: #FFFFFF;\n",
              "    }\n",
              "  </style>\n",
              "\n",
              "    <script>\n",
              "      const buttonEl =\n",
              "        document.querySelector('#df-89029303-6bd8-4a99-ab10-d3c2ac425c96 button.colab-df-convert');\n",
              "      buttonEl.style.display =\n",
              "        google.colab.kernel.accessAllowed ? 'block' : 'none';\n",
              "\n",
              "      async function convertToInteractive(key) {\n",
              "        const element = document.querySelector('#df-89029303-6bd8-4a99-ab10-d3c2ac425c96');\n",
              "        const dataTable =\n",
              "          await google.colab.kernel.invokeFunction('convertToInteractive',\n",
              "                                                    [key], {});\n",
              "        if (!dataTable) return;\n",
              "\n",
              "        const docLinkHtml = 'Like what you see? Visit the ' +\n",
              "          '<a target=\"_blank\" href=https://colab.research.google.com/notebooks/data_table.ipynb>data table notebook</a>'\n",
              "          + ' to learn more about interactive tables.';\n",
              "        element.innerHTML = '';\n",
              "        dataTable['output_type'] = 'display_data';\n",
              "        await google.colab.output.renderOutput(dataTable, element);\n",
              "        const docLink = document.createElement('div');\n",
              "        docLink.innerHTML = docLinkHtml;\n",
              "        element.appendChild(docLink);\n",
              "      }\n",
              "    </script>\n",
              "  </div>\n",
              "\n",
              "\n",
              "<div id=\"df-6737477c-40ff-414e-b2aa-0d7857806832\">\n",
              "  <button class=\"colab-df-quickchart\" onclick=\"quickchart('df-6737477c-40ff-414e-b2aa-0d7857806832')\"\n",
              "            title=\"Suggest charts\"\n",
              "            style=\"display:none;\">\n",
              "\n",
              "<svg xmlns=\"http://www.w3.org/2000/svg\" height=\"24px\"viewBox=\"0 0 24 24\"\n",
              "     width=\"24px\">\n",
              "    <g>\n",
              "        <path d=\"M19 3H5c-1.1 0-2 .9-2 2v14c0 1.1.9 2 2 2h14c1.1 0 2-.9 2-2V5c0-1.1-.9-2-2-2zM9 17H7v-7h2v7zm4 0h-2V7h2v10zm4 0h-2v-4h2v4z\"/>\n",
              "    </g>\n",
              "</svg>\n",
              "  </button>\n",
              "\n",
              "<style>\n",
              "  .colab-df-quickchart {\n",
              "      --bg-color: #E8F0FE;\n",
              "      --fill-color: #1967D2;\n",
              "      --hover-bg-color: #E2EBFA;\n",
              "      --hover-fill-color: #174EA6;\n",
              "      --disabled-fill-color: #AAA;\n",
              "      --disabled-bg-color: #DDD;\n",
              "  }\n",
              "\n",
              "  [theme=dark] .colab-df-quickchart {\n",
              "      --bg-color: #3B4455;\n",
              "      --fill-color: #D2E3FC;\n",
              "      --hover-bg-color: #434B5C;\n",
              "      --hover-fill-color: #FFFFFF;\n",
              "      --disabled-bg-color: #3B4455;\n",
              "      --disabled-fill-color: #666;\n",
              "  }\n",
              "\n",
              "  .colab-df-quickchart {\n",
              "    background-color: var(--bg-color);\n",
              "    border: none;\n",
              "    border-radius: 50%;\n",
              "    cursor: pointer;\n",
              "    display: none;\n",
              "    fill: var(--fill-color);\n",
              "    height: 32px;\n",
              "    padding: 0;\n",
              "    width: 32px;\n",
              "  }\n",
              "\n",
              "  .colab-df-quickchart:hover {\n",
              "    background-color: var(--hover-bg-color);\n",
              "    box-shadow: 0 1px 2px rgba(60, 64, 67, 0.3), 0 1px 3px 1px rgba(60, 64, 67, 0.15);\n",
              "    fill: var(--button-hover-fill-color);\n",
              "  }\n",
              "\n",
              "  .colab-df-quickchart-complete:disabled,\n",
              "  .colab-df-quickchart-complete:disabled:hover {\n",
              "    background-color: var(--disabled-bg-color);\n",
              "    fill: var(--disabled-fill-color);\n",
              "    box-shadow: none;\n",
              "  }\n",
              "\n",
              "  .colab-df-spinner {\n",
              "    border: 2px solid var(--fill-color);\n",
              "    border-color: transparent;\n",
              "    border-bottom-color: var(--fill-color);\n",
              "    animation:\n",
              "      spin 1s steps(1) infinite;\n",
              "  }\n",
              "\n",
              "  @keyframes spin {\n",
              "    0% {\n",
              "      border-color: transparent;\n",
              "      border-bottom-color: var(--fill-color);\n",
              "      border-left-color: var(--fill-color);\n",
              "    }\n",
              "    20% {\n",
              "      border-color: transparent;\n",
              "      border-left-color: var(--fill-color);\n",
              "      border-top-color: var(--fill-color);\n",
              "    }\n",
              "    30% {\n",
              "      border-color: transparent;\n",
              "      border-left-color: var(--fill-color);\n",
              "      border-top-color: var(--fill-color);\n",
              "      border-right-color: var(--fill-color);\n",
              "    }\n",
              "    40% {\n",
              "      border-color: transparent;\n",
              "      border-right-color: var(--fill-color);\n",
              "      border-top-color: var(--fill-color);\n",
              "    }\n",
              "    60% {\n",
              "      border-color: transparent;\n",
              "      border-right-color: var(--fill-color);\n",
              "    }\n",
              "    80% {\n",
              "      border-color: transparent;\n",
              "      border-right-color: var(--fill-color);\n",
              "      border-bottom-color: var(--fill-color);\n",
              "    }\n",
              "    90% {\n",
              "      border-color: transparent;\n",
              "      border-bottom-color: var(--fill-color);\n",
              "    }\n",
              "  }\n",
              "</style>\n",
              "\n",
              "  <script>\n",
              "    async function quickchart(key) {\n",
              "      const quickchartButtonEl =\n",
              "        document.querySelector('#' + key + ' button');\n",
              "      quickchartButtonEl.disabled = true;  // To prevent multiple clicks.\n",
              "      quickchartButtonEl.classList.add('colab-df-spinner');\n",
              "      try {\n",
              "        const charts = await google.colab.kernel.invokeFunction(\n",
              "            'suggestCharts', [key], {});\n",
              "      } catch (error) {\n",
              "        console.error('Error during call to suggestCharts:', error);\n",
              "      }\n",
              "      quickchartButtonEl.classList.remove('colab-df-spinner');\n",
              "      quickchartButtonEl.classList.add('colab-df-quickchart-complete');\n",
              "    }\n",
              "    (() => {\n",
              "      let quickchartButtonEl =\n",
              "        document.querySelector('#df-6737477c-40ff-414e-b2aa-0d7857806832 button');\n",
              "      quickchartButtonEl.style.display =\n",
              "        google.colab.kernel.accessAllowed ? 'block' : 'none';\n",
              "    })();\n",
              "  </script>\n",
              "</div>\n",
              "\n",
              "    </div>\n",
              "  </div>\n"
            ],
            "text/plain": [
              "                                               Tweet           Target  \\\n",
              "0  but i believe that the government will put it ...   nuclear energy   \n",
              "1          everyone looks the same dreary and vulgar  school uniforms   \n",
              "2  put plainly if somebody believes that they are...      gun control   \n",
              "3  people that are surprising trump fiorina why c...  Hillary Clinton   \n",
              "4  in christ we are righteous and in practice we ...          Atheism   \n",
              "\n",
              "    Stance  ID  Target_ID  Dataset_id  \n",
              "0     NONE  13         14           1  \n",
              "1  AGAINST  14         15           1  \n",
              "2    FAVOR  10         11           1  \n",
              "3     NONE   2          2           0  \n",
              "4  AGAINST   0          0           0  "
            ]
          },
          "execution_count": 11,
          "metadata": {},
          "output_type": "execute_result"
        }
      ],
      "source": [
        "df_shuffled.head()"
      ]
    },
    {
      "cell_type": "code",
      "execution_count": null,
      "metadata": {
        "id": "e945FjnRXLAt"
      },
      "outputs": [],
      "source": [
        "df_shuffled = df.sample(frac=1, random_state=42).reset_index(drop=True)"
      ]
    },
    {
      "cell_type": "markdown",
      "metadata": {
        "id": "I-HSMVqCis59"
      },
      "source": [
        "DEFINING THE INPUT TEXT AND OUTPUT DATA TO TRAIN"
      ]
    },
    {
      "cell_type": "code",
      "execution_count": null,
      "metadata": {
        "id": "l6QTgPqIcTN0"
      },
      "outputs": [],
      "source": [
        "df_sampled = pd.DataFrame()\n",
        "df_sampled['text_input']= df_shuffled['Tweet'].head(150)\n",
        "df_sampled['output'] = df_shuffled['Target'].head(150)\n"
      ]
    },
    {
      "cell_type": "markdown",
      "metadata": {
        "id": "PcsztWlzi9NB"
      },
      "source": [
        "DEFINING AND HYPERTUNING THE MODEL BY BASE MODEL"
      ]
    },
    {
      "cell_type": "code",
      "execution_count": null,
      "metadata": {
        "id": "iK5xJWfBNB3_"
      },
      "outputs": [],
      "source": [
        "name = f'phase-generator-11'\n",
        "operation = genai.create_tuned_model(\n",
        "\n",
        "    source_model=base_model.name,\n",
        "    training_data=df_sampled,\n",
        "    id = name,\n",
        "    epoch_count = 2,\n",
        "    batch_size=5,\n",
        "    learning_rate=0.0001,\n",
        ")"
      ]
    },
    {
      "cell_type": "markdown",
      "metadata": {
        "id": "LFheDIVfjA3O"
      },
      "source": [
        "USED TO RETRIVE THE TRAIN STATUS"
      ]
    },
    {
      "cell_type": "code",
      "execution_count": null,
      "metadata": {
        "colab": {
          "base_uri": "https://localhost:8080/",
          "height": 208,
          "referenced_widgets": [
            "2caef0dac4ef45d99f0316215d5f9c5a",
            "2648f7baf45f43999b9c4ae9b3f54cdd",
            "5f3e7f3cc03b4e84b41e3e1f70e9e640",
            "472d3c04e5bc4d00ab3944f0eb9a962f",
            "69729e7f421e4fdb81ab7928f5f4d4b3",
            "b62fb971a6a24e43b72eda0cce837997",
            "b66b709604734d01940664391fc95ba3",
            "9d7830062e014d5f9cc334a4107583a4",
            "cd74c8dc0ca4491598c2496dea6bb3a6",
            "f1bbf463a80a4baebd423431b179c87a",
            "8610827998c14a07969cfe5a794b54f8"
          ]
        },
        "id": "Mbxtb7Rfeyzd",
        "outputId": "a2c029a9-a624-4a06-d75a-f2ab86981a83"
      },
      "outputs": [
        {
          "data": {
            "application/vnd.jupyter.widget-view+json": {
              "model_id": "2caef0dac4ef45d99f0316215d5f9c5a",
              "version_major": 2,
              "version_minor": 0
            },
            "text/plain": [
              "  0%|          | 0/60 [00:00<?, ?it/s]"
            ]
          },
          "metadata": {},
          "output_type": "display_data"
        },
        {
          "ename": "KeyboardInterrupt",
          "evalue": "",
          "output_type": "error",
          "traceback": [
            "\u001b[0;31m---------------------------------------------------------------------------\u001b[0m",
            "\u001b[0;31mKeyboardInterrupt\u001b[0m                         Traceback (most recent call last)",
            "\u001b[0;32m<ipython-input-17-8d343619e353>\u001b[0m in \u001b[0;36m<cell line: 3>\u001b[0;34m()\u001b[0m\n\u001b[1;32m      2\u001b[0m \u001b[0;34m\u001b[0m\u001b[0m\n\u001b[1;32m      3\u001b[0m \u001b[0;32mfor\u001b[0m \u001b[0mstatus\u001b[0m \u001b[0;32min\u001b[0m \u001b[0moperation\u001b[0m\u001b[0;34m.\u001b[0m\u001b[0mwait_bar\u001b[0m\u001b[0;34m(\u001b[0m\u001b[0;34m)\u001b[0m\u001b[0;34m:\u001b[0m\u001b[0;34m\u001b[0m\u001b[0;34m\u001b[0m\u001b[0m\n\u001b[0;32m----> 4\u001b[0;31m   \u001b[0mtime\u001b[0m\u001b[0;34m.\u001b[0m\u001b[0msleep\u001b[0m\u001b[0;34m(\u001b[0m\u001b[0;36m30\u001b[0m\u001b[0;34m)\u001b[0m\u001b[0;34m\u001b[0m\u001b[0;34m\u001b[0m\u001b[0m\n\u001b[0m",
            "\u001b[0;31mKeyboardInterrupt\u001b[0m: "
          ]
        }
      ],
      "source": [
        "import time\n",
        "\n",
        "for status in operation.wait_bar():\n",
        "  time.sleep(30)"
      ]
    },
    {
      "cell_type": "markdown",
      "metadata": {
        "id": "_sctDctajJts"
      },
      "source": [
        "DEFINING THE MODEL"
      ]
    },
    {
      "cell_type": "code",
      "execution_count": null,
      "metadata": {
        "colab": {
          "base_uri": "https://localhost:8080/"
        },
        "id": "RXtmm8vZNGNu",
        "outputId": "362d2890-db4c-4b54-8802-a3a6fae40df2"
      },
      "outputs": [
        {
          "data": {
            "text/plain": [
              "Model(name='models/gemini-1.5-flash-001',\n",
              "      base_model_id='',\n",
              "      version='001',\n",
              "      display_name='Gemini 1.5 Flash 001',\n",
              "      description='Fast and versatile multimodal model for scaling across diverse tasks',\n",
              "      input_token_limit=1048576,\n",
              "      output_token_limit=8192,\n",
              "      supported_generation_methods=['generateContent', 'countTokens', 'createCachedContent'],\n",
              "      temperature=1.0,\n",
              "      max_temperature=2.0,\n",
              "      top_p=0.95,\n",
              "      top_k=64)"
            ]
          },
          "execution_count": 24,
          "metadata": {},
          "output_type": "execute_result"
        }
      ],
      "source": [
        "model = genai.get_model(f'models/gemini-1.5-flash-001')\n",
        "\n",
        "model"
      ]
    },
    {
      "cell_type": "code",
      "execution_count": null,
      "metadata": {
        "colab": {
          "base_uri": "https://localhost:8080/",
          "height": 443
        },
        "id": "4gSrdGZqnaIV",
        "outputId": "c12b9a07-e35e-4c86-93b5-8e76ce9e71e1"
      },
      "outputs": [
        {
          "ename": "KeyboardInterrupt",
          "evalue": "",
          "output_type": "error",
          "traceback": [
            "\u001b[0;31m---------------------------------------------------------------------------\u001b[0m",
            "\u001b[0;31m_OperationNotComplete\u001b[0m                     Traceback (most recent call last)",
            "\u001b[0;32m/usr/local/lib/python3.10/dist-packages/google/api_core/retry/retry_unary.py\u001b[0m in \u001b[0;36mretry_target\u001b[0;34m(target, predicate, sleep_generator, timeout, on_error, exception_factory, **kwargs)\u001b[0m\n\u001b[1;32m    143\u001b[0m         \u001b[0;32mtry\u001b[0m\u001b[0;34m:\u001b[0m\u001b[0;34m\u001b[0m\u001b[0;34m\u001b[0m\u001b[0m\n\u001b[0;32m--> 144\u001b[0;31m             \u001b[0mresult\u001b[0m \u001b[0;34m=\u001b[0m \u001b[0mtarget\u001b[0m\u001b[0;34m(\u001b[0m\u001b[0;34m)\u001b[0m\u001b[0;34m\u001b[0m\u001b[0;34m\u001b[0m\u001b[0m\n\u001b[0m\u001b[1;32m    145\u001b[0m             \u001b[0;32mif\u001b[0m \u001b[0minspect\u001b[0m\u001b[0;34m.\u001b[0m\u001b[0misawaitable\u001b[0m\u001b[0;34m(\u001b[0m\u001b[0mresult\u001b[0m\u001b[0;34m)\u001b[0m\u001b[0;34m:\u001b[0m\u001b[0;34m\u001b[0m\u001b[0;34m\u001b[0m\u001b[0m\n",
            "\u001b[0;32m/usr/local/lib/python3.10/dist-packages/google/api_core/future/polling.py\u001b[0m in \u001b[0;36m_done_or_raise\u001b[0;34m(self, retry)\u001b[0m\n\u001b[1;32m    119\u001b[0m         \u001b[0;32mif\u001b[0m \u001b[0;32mnot\u001b[0m \u001b[0mself\u001b[0m\u001b[0;34m.\u001b[0m\u001b[0mdone\u001b[0m\u001b[0;34m(\u001b[0m\u001b[0mretry\u001b[0m\u001b[0;34m=\u001b[0m\u001b[0mretry\u001b[0m\u001b[0;34m)\u001b[0m\u001b[0;34m:\u001b[0m\u001b[0;34m\u001b[0m\u001b[0;34m\u001b[0m\u001b[0m\n\u001b[0;32m--> 120\u001b[0;31m             \u001b[0;32mraise\u001b[0m \u001b[0m_OperationNotComplete\u001b[0m\u001b[0;34m(\u001b[0m\u001b[0;34m)\u001b[0m\u001b[0;34m\u001b[0m\u001b[0;34m\u001b[0m\u001b[0m\n\u001b[0m\u001b[1;32m    121\u001b[0m \u001b[0;34m\u001b[0m\u001b[0m\n",
            "\u001b[0;31m_OperationNotComplete\u001b[0m: ",
            "\nDuring handling of the above exception, another exception occurred:\n",
            "\u001b[0;31mKeyboardInterrupt\u001b[0m                         Traceback (most recent call last)",
            "\u001b[0;32m<ipython-input-25-a35529fc4ad9>\u001b[0m in \u001b[0;36m<cell line: 4>\u001b[0;34m()\u001b[0m\n\u001b[1;32m      2\u001b[0m \u001b[0;32mimport\u001b[0m \u001b[0mseaborn\u001b[0m \u001b[0;32mas\u001b[0m \u001b[0msns\u001b[0m\u001b[0;34m\u001b[0m\u001b[0;34m\u001b[0m\u001b[0m\n\u001b[1;32m      3\u001b[0m \u001b[0;34m\u001b[0m\u001b[0m\n\u001b[0;32m----> 4\u001b[0;31m \u001b[0mmodel\u001b[0m \u001b[0;34m=\u001b[0m \u001b[0moperation\u001b[0m\u001b[0;34m.\u001b[0m\u001b[0mresult\u001b[0m\u001b[0;34m(\u001b[0m\u001b[0;34m)\u001b[0m\u001b[0;34m\u001b[0m\u001b[0;34m\u001b[0m\u001b[0m\n\u001b[0m\u001b[1;32m      5\u001b[0m \u001b[0;34m\u001b[0m\u001b[0m\n\u001b[1;32m      6\u001b[0m \u001b[0msnapshots\u001b[0m \u001b[0;34m=\u001b[0m \u001b[0mpd\u001b[0m\u001b[0;34m.\u001b[0m\u001b[0mDataFrame\u001b[0m\u001b[0;34m(\u001b[0m\u001b[0mmodel\u001b[0m\u001b[0;34m.\u001b[0m\u001b[0mtuning_task\u001b[0m\u001b[0;34m.\u001b[0m\u001b[0msnapshots\u001b[0m\u001b[0;34m)\u001b[0m\u001b[0;34m\u001b[0m\u001b[0;34m\u001b[0m\u001b[0m\n",
            "\u001b[0;32m/usr/local/lib/python3.10/dist-packages/google/api_core/future/polling.py\u001b[0m in \u001b[0;36mresult\u001b[0;34m(self, timeout, retry, polling)\u001b[0m\n\u001b[1;32m    254\u001b[0m         \"\"\"\n\u001b[1;32m    255\u001b[0m \u001b[0;34m\u001b[0m\u001b[0m\n\u001b[0;32m--> 256\u001b[0;31m         \u001b[0mself\u001b[0m\u001b[0;34m.\u001b[0m\u001b[0m_blocking_poll\u001b[0m\u001b[0;34m(\u001b[0m\u001b[0mtimeout\u001b[0m\u001b[0;34m=\u001b[0m\u001b[0mtimeout\u001b[0m\u001b[0;34m,\u001b[0m \u001b[0mretry\u001b[0m\u001b[0;34m=\u001b[0m\u001b[0mretry\u001b[0m\u001b[0;34m,\u001b[0m \u001b[0mpolling\u001b[0m\u001b[0;34m=\u001b[0m\u001b[0mpolling\u001b[0m\u001b[0;34m)\u001b[0m\u001b[0;34m\u001b[0m\u001b[0;34m\u001b[0m\u001b[0m\n\u001b[0m\u001b[1;32m    257\u001b[0m \u001b[0;34m\u001b[0m\u001b[0m\n\u001b[1;32m    258\u001b[0m         \u001b[0;32mif\u001b[0m \u001b[0mself\u001b[0m\u001b[0;34m.\u001b[0m\u001b[0m_exception\u001b[0m \u001b[0;32mis\u001b[0m \u001b[0;32mnot\u001b[0m \u001b[0;32mNone\u001b[0m\u001b[0;34m:\u001b[0m\u001b[0;34m\u001b[0m\u001b[0;34m\u001b[0m\u001b[0m\n",
            "\u001b[0;32m/usr/local/lib/python3.10/dist-packages/google/api_core/future/polling.py\u001b[0m in \u001b[0;36m_blocking_poll\u001b[0;34m(self, timeout, retry, polling)\u001b[0m\n\u001b[1;32m    135\u001b[0m \u001b[0;34m\u001b[0m\u001b[0m\n\u001b[1;32m    136\u001b[0m         \u001b[0;32mtry\u001b[0m\u001b[0;34m:\u001b[0m\u001b[0;34m\u001b[0m\u001b[0;34m\u001b[0m\u001b[0m\n\u001b[0;32m--> 137\u001b[0;31m             \u001b[0mpolling\u001b[0m\u001b[0;34m(\u001b[0m\u001b[0mself\u001b[0m\u001b[0;34m.\u001b[0m\u001b[0m_done_or_raise\u001b[0m\u001b[0;34m)\u001b[0m\u001b[0;34m(\u001b[0m\u001b[0mretry\u001b[0m\u001b[0;34m=\u001b[0m\u001b[0mretry\u001b[0m\u001b[0;34m)\u001b[0m\u001b[0;34m\u001b[0m\u001b[0;34m\u001b[0m\u001b[0m\n\u001b[0m\u001b[1;32m    138\u001b[0m         \u001b[0;32mexcept\u001b[0m \u001b[0mexceptions\u001b[0m\u001b[0;34m.\u001b[0m\u001b[0mRetryError\u001b[0m\u001b[0;34m:\u001b[0m\u001b[0;34m\u001b[0m\u001b[0;34m\u001b[0m\u001b[0m\n\u001b[1;32m    139\u001b[0m             raise concurrent.futures.TimeoutError(\n",
            "\u001b[0;32m/usr/local/lib/python3.10/dist-packages/google/api_core/retry/retry_unary.py\u001b[0m in \u001b[0;36mretry_wrapped_func\u001b[0;34m(*args, **kwargs)\u001b[0m\n\u001b[1;32m    291\u001b[0m                 \u001b[0mself\u001b[0m\u001b[0;34m.\u001b[0m\u001b[0m_initial\u001b[0m\u001b[0;34m,\u001b[0m \u001b[0mself\u001b[0m\u001b[0;34m.\u001b[0m\u001b[0m_maximum\u001b[0m\u001b[0;34m,\u001b[0m \u001b[0mmultiplier\u001b[0m\u001b[0;34m=\u001b[0m\u001b[0mself\u001b[0m\u001b[0;34m.\u001b[0m\u001b[0m_multiplier\u001b[0m\u001b[0;34m\u001b[0m\u001b[0;34m\u001b[0m\u001b[0m\n\u001b[1;32m    292\u001b[0m             )\n\u001b[0;32m--> 293\u001b[0;31m             return retry_target(\n\u001b[0m\u001b[1;32m    294\u001b[0m                 \u001b[0mtarget\u001b[0m\u001b[0;34m,\u001b[0m\u001b[0;34m\u001b[0m\u001b[0;34m\u001b[0m\u001b[0m\n\u001b[1;32m    295\u001b[0m                 \u001b[0mself\u001b[0m\u001b[0;34m.\u001b[0m\u001b[0m_predicate\u001b[0m\u001b[0;34m,\u001b[0m\u001b[0;34m\u001b[0m\u001b[0;34m\u001b[0m\u001b[0m\n",
            "\u001b[0;32m/usr/local/lib/python3.10/dist-packages/google/api_core/retry/retry_unary.py\u001b[0m in \u001b[0;36mretry_target\u001b[0;34m(target, predicate, sleep_generator, timeout, on_error, exception_factory, **kwargs)\u001b[0m\n\u001b[1;32m    162\u001b[0m             )\n\u001b[1;32m    163\u001b[0m             \u001b[0;31m# if exception not raised, sleep before next attempt\u001b[0m\u001b[0;34m\u001b[0m\u001b[0;34m\u001b[0m\u001b[0m\n\u001b[0;32m--> 164\u001b[0;31m             \u001b[0mtime\u001b[0m\u001b[0;34m.\u001b[0m\u001b[0msleep\u001b[0m\u001b[0;34m(\u001b[0m\u001b[0msleep\u001b[0m\u001b[0;34m)\u001b[0m\u001b[0;34m\u001b[0m\u001b[0;34m\u001b[0m\u001b[0m\n\u001b[0m\u001b[1;32m    165\u001b[0m \u001b[0;34m\u001b[0m\u001b[0m\n\u001b[1;32m    166\u001b[0m     \u001b[0;32mraise\u001b[0m \u001b[0mValueError\u001b[0m\u001b[0;34m(\u001b[0m\u001b[0;34m\"Sleep generator stopped yielding sleep values.\"\u001b[0m\u001b[0;34m)\u001b[0m\u001b[0;34m\u001b[0m\u001b[0;34m\u001b[0m\u001b[0m\n",
            "\u001b[0;31mKeyboardInterrupt\u001b[0m: "
          ]
        }
      ],
      "source": [
        "import pandas as pd\n",
        "import seaborn as sns\n",
        "\n",
        "model = operation.result()\n",
        "\n",
        "snapshots = pd.DataFrame(model.tuning_task.snapshots)\n",
        "\n",
        "sns.lineplot(data=snapshots, x = 'epoch', y='mean_loss')"
      ]
    },
    {
      "cell_type": "markdown",
      "metadata": {
        "id": "25aeOwrdjUHp"
      },
      "source": [
        "IMPORTING THE HARMCATEGORY AND BLOCK TO AVOID THE RESTRICTING WILL GENERATING"
      ]
    },
    {
      "cell_type": "code",
      "execution_count": null,
      "metadata": {
        "id": "ktCFAEj1NHPP"
      },
      "outputs": [],
      "source": [
        "import pandas as pd\n",
        "from google.generativeai.types import HarmCategory, HarmBlockThreshold\n",
        "import json"
      ]
    },
    {
      "cell_type": "markdown",
      "metadata": {
        "id": "ts2tOkVojpZQ"
      },
      "source": [
        "LOADING TEST CSV"
      ]
    },
    {
      "cell_type": "code",
      "execution_count": null,
      "metadata": {
        "id": "r4B7_xQ-PQxa"
      },
      "outputs": [],
      "source": [
        "df = pd.read_csv('/content/Test_dataset(unseen)_zero_shot_cleaned_data.csv' , encoding='latin-1')"
      ]
    },
    {
      "cell_type": "code",
      "execution_count": null,
      "metadata": {
        "id": "XXi7fuLDPbhB"
      },
      "outputs": [],
      "source": [
        "generation_config = {\n",
        "  \"temperature\": 1,\n",
        "  \"top_p\": 0.95,\n",
        "  \"top_k\": 64,\n",
        "  \"max_output_tokens\": 8192,\n",
        "  \"response_mime_type\": \"text/plain\",\n",
        "\n",
        "}\n",
        "\n",
        "model = genai.GenerativeModel(\n",
        "  model_name=\"models/gemini-1.5-flash-001\",\n",
        "  generation_config=generation_config,\n",
        "\n",
        ")\n",
        "\n",
        "chat_session = model.start_chat(\n",
        "  history=[\n",
        "    {\n",
        "      \"role\": \"model\",\n",
        "      \"parts\": [\n",
        "        \"```json\\n{\\n  \\\"target\\\": \\\"Creationism\\\",\\n  \\\"stance\\\": \\\"Negative\\\" \\n}\\n``` \\n\",\n",
        "      ],\n",
        "    },\n",
        "    {\n",
        "      \"role\": \"model\",\n",
        "      \"parts\": [\n",
        "        \"```json\\n{\\n  \\\"target\\\": \\\"MeToo\\\", \\n  \\\"stance\\\": \\\"Against\\\" \\n}\\n```\",\n",
        "      ],\n",
        "    },\n",
        "\n",
        "    {\n",
        "      \"role\": \"model\",\n",
        "      \"parts\": [\n",
        "        \"```json\\n{\\n  \\\"target\\\": \\\"ClimateChange\\\",\\n  \\\"stance\\\": \\\"Favor\\\" \\n}'''\",\n",
        "      ],\n",
        "    },\n",
        "  ]\n",
        ")"
      ]
    },
    {
      "cell_type": "markdown",
      "metadata": {
        "id": "NDrIHcF5jt9s"
      },
      "source": [
        "DEFINING THE PROMPT AND MAKING PREDICT FUNCTION"
      ]
    },
    {
      "cell_type": "code",
      "execution_count": null,
      "metadata": {
        "id": "dZqEtjMvPsjc"
      },
      "outputs": [],
      "source": [
        "def predict_target_and_stance(tweet_text):\n",
        "    json_response = chat_session.send_message(\n",
        "        [tweet_text],safety_settings={\n",
        "            HarmCategory.HARM_CATEGORY_HATE_SPEECH: HarmBlockThreshold.BLOCK_NONE,\n",
        "            HarmCategory.HARM_CATEGORY_HARASSMENT: HarmBlockThreshold.BLOCK_NONE,\n",
        "            HarmCategory.HARM_CATEGORY_DANGEROUS_CONTENT: HarmBlockThreshold.BLOCK_NONE,\n",
        "        }\n",
        "    )\n",
        "\n",
        "    return json_response.to_dict()"
      ]
    },
    {
      "cell_type": "markdown",
      "metadata": {
        "id": "igIHDiZ3j1Bv"
      },
      "source": [
        "RETRIVING THE RESPONSE FROM THE MODEL AND DOING PREPROCESSING"
      ]
    },
    {
      "cell_type": "code",
      "execution_count": null,
      "metadata": {
        "colab": {
          "base_uri": "https://localhost:8080/"
        },
        "id": "R9QrhFj_Jpse",
        "outputId": "9f307e18-9800-4af6-f448-5be3330e20ee"
      },
      "outputs": [
        {
          "name": "stdout",
          "output_type": "stream",
          "text": [
            "{\n",
            "  \"target\": \"MeToo\",\n",
            "  \"stance\": \"Neutral\" \n",
            "}\n"
          ]
        }
      ],
      "source": [
        "response_json = predict_target_and_stance(df['Tweet'][2000])\n",
        "json_text=response_json['candidates'][0]['content']['parts'][0]['text']\n",
        "json_text_cleaned = json_text.strip('```json\\n').strip('\\n``` ')\n",
        "print(json_text_cleaned)"
      ]
    },
    {
      "cell_type": "code",
      "execution_count": null,
      "metadata": {
        "colab": {
          "base_uri": "https://localhost:8080/"
        },
        "id": "-jYpt964Zomt",
        "outputId": "3a42414f-52bb-465d-f6e6-687e1f4d37a1"
      },
      "outputs": [
        {
          "name": "stdout",
          "output_type": "stream",
          "text": [
            "Farah dodges questions after SajidÃÂ¢ÃÂÃÂs #MeTooÃÂÃÂ episode https://t.co/TZt7wgNWos https://t.co/YJat4pkQW1\n",
            "NONE\n",
            "metoo movement\n"
          ]
        }
      ],
      "source": [
        "print(df['Tweet'][2000])\n",
        "print(df['GT Stance( Ground Truth)'][2000])\n",
        "print(df['GT Target(Ground Truth)'][2000])"
      ]
    },
    {
      "cell_type": "code",
      "execution_count": null,
      "metadata": {
        "colab": {
          "base_uri": "https://localhost:8080/",
          "height": 519
        },
        "id": "dXsOmSslZRRB",
        "outputId": "25b46593-5cec-4cb1-de23-4176a1d9feea"
      },
      "outputs": [
        {
          "data": {
            "application/vnd.google.colaboratory.intrinsic+json": {
              "summary": "{\n  \"name\": \"df\",\n  \"rows\": 3600,\n  \"fields\": [\n    {\n      \"column\": \"Tweet\",\n      \"properties\": {\n        \"dtype\": \"string\",\n        \"num_unique_values\": 3591,\n        \"samples\": [\n          \"Counting down the days until my PhD starts #77 #tephrochronology #southernhemisphere  #chronology #oxford #SemST\",\n          \"Anybody that thinks there is currently a \\\"healthy scientific debate\\\" over \\\"Intelligent Design\\\" has missed the history of the last 150 years. It has been known scientifically and popularly since Charles Darwin's day that   evolution   truly happened, as surely as gravity.Only the fools remain to discuss their contrived alternatives. Richards is a PhD? In what, I wonder. He would be an utter failure as a biologist.\",\n          \"The biggest inaccuracy of that Succession episode was not the conflation between Integralism, nativism and neoconservatism. It's when Shiv gets mad at Mencken for telling her to go read Plato. Women actually love when you do this\"\n        ],\n        \"semantic_type\": \"\",\n        \"description\": \"\"\n      }\n    },\n    {\n      \"column\": \"GT Target(Ground Truth)\",\n      \"properties\": {\n        \"dtype\": \"category\",\n        \"num_unique_values\": 7,\n        \"samples\": [\n          \"creationism\",\n          \"merger of disney and fox\",\n          \"climate change is a concern\"\n        ],\n        \"semantic_type\": \"\",\n        \"description\": \"\"\n      }\n    },\n    {\n      \"column\": \"GT Stance( Ground Truth)\",\n      \"properties\": {\n        \"dtype\": \"category\",\n        \"num_unique_values\": 4,\n        \"samples\": [\n          \"FAVOR\",\n          \"Dummy Stance\",\n          \"AGAINST\"\n        ],\n        \"semantic_type\": \"\",\n        \"description\": \"\"\n      }\n    },\n    {\n      \"column\": \"Mapped Target\",\n      \"properties\": {\n        \"dtype\": \"number\",\n        \"std\": null,\n        \"min\": null,\n        \"max\": null,\n        \"num_unique_values\": 0,\n        \"samples\": [],\n        \"semantic_type\": \"\",\n        \"description\": \"\"\n      }\n    },\n    {\n      \"column\": \"Generated Targets\",\n      \"properties\": {\n        \"dtype\": \"number\",\n        \"std\": null,\n        \"min\": null,\n        \"max\": null,\n        \"num_unique_values\": 0,\n        \"samples\": [],\n        \"semantic_type\": \"\",\n        \"description\": \"\"\n      }\n    },\n    {\n      \"column\": \"Best Gen Target\",\n      \"properties\": {\n        \"dtype\": \"number\",\n        \"std\": null,\n        \"min\": null,\n        \"max\": null,\n        \"num_unique_values\": 0,\n        \"samples\": [],\n        \"semantic_type\": \"\",\n        \"description\": \"\"\n      }\n    },\n    {\n      \"column\": \"Cleaned Tweet\",\n      \"properties\": {\n        \"dtype\": \"string\",\n        \"num_unique_values\": 3547,\n        \"samples\": [],\n        \"semantic_type\": \"\",\n        \"description\": \"\"\n      }\n    }\n  ]\n}",
              "type": "dataframe",
              "variable_name": "df"
            },
            "text/html": [
              "\n",
              "  <div id=\"df-26f684df-0b2f-4523-8b29-173a073cb187\" class=\"colab-df-container\">\n",
              "    <div>\n",
              "<style scoped>\n",
              "    .dataframe tbody tr th:only-of-type {\n",
              "        vertical-align: middle;\n",
              "    }\n",
              "\n",
              "    .dataframe tbody tr th {\n",
              "        vertical-align: top;\n",
              "    }\n",
              "\n",
              "    .dataframe thead th {\n",
              "        text-align: right;\n",
              "    }\n",
              "</style>\n",
              "<table border=\"1\" class=\"dataframe\">\n",
              "  <thead>\n",
              "    <tr style=\"text-align: right;\">\n",
              "      <th></th>\n",
              "      <th>Tweet</th>\n",
              "      <th>GT Target(Ground Truth)</th>\n",
              "      <th>GT Stance( Ground Truth)</th>\n",
              "      <th>Mapped Target</th>\n",
              "      <th>Generated Targets</th>\n",
              "      <th>Best Gen Target</th>\n",
              "      <th>Cleaned Tweet</th>\n",
              "    </tr>\n",
              "  </thead>\n",
              "  <tbody>\n",
              "    <tr>\n",
              "      <th>0</th>\n",
              "      <td>My point was not that Genesis contradicted its...</td>\n",
              "      <td>creationism</td>\n",
              "      <td>AGAINST</td>\n",
              "      <td>NaN</td>\n",
              "      <td>NaN</td>\n",
              "      <td>NaN</td>\n",
              "      <td>point genesis contradicted took literally cont...</td>\n",
              "    </tr>\n",
              "    <tr>\n",
              "      <th>1</th>\n",
              "      <td>I believe in evolution; evolution is the mech...</td>\n",
              "      <td>creationism</td>\n",
              "      <td>FAVOR</td>\n",
              "      <td>NaN</td>\n",
              "      <td>NaN</td>\n",
              "      <td>NaN</td>\n",
              "      <td>believe evolution evolution mechanism species ...</td>\n",
              "    </tr>\n",
              "    <tr>\n",
              "      <th>2</th>\n",
              "      <td>Should we just reject the big-bang as being un...</td>\n",
              "      <td>creationism</td>\n",
              "      <td>FAVOR</td>\n",
              "      <td>NaN</td>\n",
              "      <td>NaN</td>\n",
              "      <td>NaN</td>\n",
              "      <td>reject bigbang unscientific since would requir...</td>\n",
              "    </tr>\n",
              "    <tr>\n",
              "      <th>3</th>\n",
              "      <td>It is not 'appropriate' to teach creationism a...</td>\n",
              "      <td>creationism</td>\n",
              "      <td>AGAINST</td>\n",
              "      <td>NaN</td>\n",
              "      <td>NaN</td>\n",
              "      <td>NaN</td>\n",
              "      <td>appropriate teach creationism means upholding ...</td>\n",
              "    </tr>\n",
              "    <tr>\n",
              "      <th>4</th>\n",
              "      <td>Genetic tests have proven that we are very cl...</td>\n",
              "      <td>creationism</td>\n",
              "      <td>AGAINST</td>\n",
              "      <td>NaN</td>\n",
              "      <td>NaN</td>\n",
              "      <td>NaN</td>\n",
              "      <td>genetic tests proven closely related certain a...</td>\n",
              "    </tr>\n",
              "  </tbody>\n",
              "</table>\n",
              "</div>\n",
              "    <div class=\"colab-df-buttons\">\n",
              "\n",
              "  <div class=\"colab-df-container\">\n",
              "    <button class=\"colab-df-convert\" onclick=\"convertToInteractive('df-26f684df-0b2f-4523-8b29-173a073cb187')\"\n",
              "            title=\"Convert this dataframe to an interactive table.\"\n",
              "            style=\"display:none;\">\n",
              "\n",
              "  <svg xmlns=\"http://www.w3.org/2000/svg\" height=\"24px\" viewBox=\"0 -960 960 960\">\n",
              "    <path d=\"M120-120v-720h720v720H120Zm60-500h600v-160H180v160Zm220 220h160v-160H400v160Zm0 220h160v-160H400v160ZM180-400h160v-160H180v160Zm440 0h160v-160H620v160ZM180-180h160v-160H180v160Zm440 0h160v-160H620v160Z\"/>\n",
              "  </svg>\n",
              "    </button>\n",
              "\n",
              "  <style>\n",
              "    .colab-df-container {\n",
              "      display:flex;\n",
              "      gap: 12px;\n",
              "    }\n",
              "\n",
              "    .colab-df-convert {\n",
              "      background-color: #E8F0FE;\n",
              "      border: none;\n",
              "      border-radius: 50%;\n",
              "      cursor: pointer;\n",
              "      display: none;\n",
              "      fill: #1967D2;\n",
              "      height: 32px;\n",
              "      padding: 0 0 0 0;\n",
              "      width: 32px;\n",
              "    }\n",
              "\n",
              "    .colab-df-convert:hover {\n",
              "      background-color: #E2EBFA;\n",
              "      box-shadow: 0px 1px 2px rgba(60, 64, 67, 0.3), 0px 1px 3px 1px rgba(60, 64, 67, 0.15);\n",
              "      fill: #174EA6;\n",
              "    }\n",
              "\n",
              "    .colab-df-buttons div {\n",
              "      margin-bottom: 4px;\n",
              "    }\n",
              "\n",
              "    [theme=dark] .colab-df-convert {\n",
              "      background-color: #3B4455;\n",
              "      fill: #D2E3FC;\n",
              "    }\n",
              "\n",
              "    [theme=dark] .colab-df-convert:hover {\n",
              "      background-color: #434B5C;\n",
              "      box-shadow: 0px 1px 3px 1px rgba(0, 0, 0, 0.15);\n",
              "      filter: drop-shadow(0px 1px 2px rgba(0, 0, 0, 0.3));\n",
              "      fill: #FFFFFF;\n",
              "    }\n",
              "  </style>\n",
              "\n",
              "    <script>\n",
              "      const buttonEl =\n",
              "        document.querySelector('#df-26f684df-0b2f-4523-8b29-173a073cb187 button.colab-df-convert');\n",
              "      buttonEl.style.display =\n",
              "        google.colab.kernel.accessAllowed ? 'block' : 'none';\n",
              "\n",
              "      async function convertToInteractive(key) {\n",
              "        const element = document.querySelector('#df-26f684df-0b2f-4523-8b29-173a073cb187');\n",
              "        const dataTable =\n",
              "          await google.colab.kernel.invokeFunction('convertToInteractive',\n",
              "                                                    [key], {});\n",
              "        if (!dataTable) return;\n",
              "\n",
              "        const docLinkHtml = 'Like what you see? Visit the ' +\n",
              "          '<a target=\"_blank\" href=https://colab.research.google.com/notebooks/data_table.ipynb>data table notebook</a>'\n",
              "          + ' to learn more about interactive tables.';\n",
              "        element.innerHTML = '';\n",
              "        dataTable['output_type'] = 'display_data';\n",
              "        await google.colab.output.renderOutput(dataTable, element);\n",
              "        const docLink = document.createElement('div');\n",
              "        docLink.innerHTML = docLinkHtml;\n",
              "        element.appendChild(docLink);\n",
              "      }\n",
              "    </script>\n",
              "  </div>\n",
              "\n",
              "\n",
              "<div id=\"df-4c31d309-1086-4610-9525-75c58517208b\">\n",
              "  <button class=\"colab-df-quickchart\" onclick=\"quickchart('df-4c31d309-1086-4610-9525-75c58517208b')\"\n",
              "            title=\"Suggest charts\"\n",
              "            style=\"display:none;\">\n",
              "\n",
              "<svg xmlns=\"http://www.w3.org/2000/svg\" height=\"24px\"viewBox=\"0 0 24 24\"\n",
              "     width=\"24px\">\n",
              "    <g>\n",
              "        <path d=\"M19 3H5c-1.1 0-2 .9-2 2v14c0 1.1.9 2 2 2h14c1.1 0 2-.9 2-2V5c0-1.1-.9-2-2-2zM9 17H7v-7h2v7zm4 0h-2V7h2v10zm4 0h-2v-4h2v4z\"/>\n",
              "    </g>\n",
              "</svg>\n",
              "  </button>\n",
              "\n",
              "<style>\n",
              "  .colab-df-quickchart {\n",
              "      --bg-color: #E8F0FE;\n",
              "      --fill-color: #1967D2;\n",
              "      --hover-bg-color: #E2EBFA;\n",
              "      --hover-fill-color: #174EA6;\n",
              "      --disabled-fill-color: #AAA;\n",
              "      --disabled-bg-color: #DDD;\n",
              "  }\n",
              "\n",
              "  [theme=dark] .colab-df-quickchart {\n",
              "      --bg-color: #3B4455;\n",
              "      --fill-color: #D2E3FC;\n",
              "      --hover-bg-color: #434B5C;\n",
              "      --hover-fill-color: #FFFFFF;\n",
              "      --disabled-bg-color: #3B4455;\n",
              "      --disabled-fill-color: #666;\n",
              "  }\n",
              "\n",
              "  .colab-df-quickchart {\n",
              "    background-color: var(--bg-color);\n",
              "    border: none;\n",
              "    border-radius: 50%;\n",
              "    cursor: pointer;\n",
              "    display: none;\n",
              "    fill: var(--fill-color);\n",
              "    height: 32px;\n",
              "    padding: 0;\n",
              "    width: 32px;\n",
              "  }\n",
              "\n",
              "  .colab-df-quickchart:hover {\n",
              "    background-color: var(--hover-bg-color);\n",
              "    box-shadow: 0 1px 2px rgba(60, 64, 67, 0.3), 0 1px 3px 1px rgba(60, 64, 67, 0.15);\n",
              "    fill: var(--button-hover-fill-color);\n",
              "  }\n",
              "\n",
              "  .colab-df-quickchart-complete:disabled,\n",
              "  .colab-df-quickchart-complete:disabled:hover {\n",
              "    background-color: var(--disabled-bg-color);\n",
              "    fill: var(--disabled-fill-color);\n",
              "    box-shadow: none;\n",
              "  }\n",
              "\n",
              "  .colab-df-spinner {\n",
              "    border: 2px solid var(--fill-color);\n",
              "    border-color: transparent;\n",
              "    border-bottom-color: var(--fill-color);\n",
              "    animation:\n",
              "      spin 1s steps(1) infinite;\n",
              "  }\n",
              "\n",
              "  @keyframes spin {\n",
              "    0% {\n",
              "      border-color: transparent;\n",
              "      border-bottom-color: var(--fill-color);\n",
              "      border-left-color: var(--fill-color);\n",
              "    }\n",
              "    20% {\n",
              "      border-color: transparent;\n",
              "      border-left-color: var(--fill-color);\n",
              "      border-top-color: var(--fill-color);\n",
              "    }\n",
              "    30% {\n",
              "      border-color: transparent;\n",
              "      border-left-color: var(--fill-color);\n",
              "      border-top-color: var(--fill-color);\n",
              "      border-right-color: var(--fill-color);\n",
              "    }\n",
              "    40% {\n",
              "      border-color: transparent;\n",
              "      border-right-color: var(--fill-color);\n",
              "      border-top-color: var(--fill-color);\n",
              "    }\n",
              "    60% {\n",
              "      border-color: transparent;\n",
              "      border-right-color: var(--fill-color);\n",
              "    }\n",
              "    80% {\n",
              "      border-color: transparent;\n",
              "      border-right-color: var(--fill-color);\n",
              "      border-bottom-color: var(--fill-color);\n",
              "    }\n",
              "    90% {\n",
              "      border-color: transparent;\n",
              "      border-bottom-color: var(--fill-color);\n",
              "    }\n",
              "  }\n",
              "</style>\n",
              "\n",
              "  <script>\n",
              "    async function quickchart(key) {\n",
              "      const quickchartButtonEl =\n",
              "        document.querySelector('#' + key + ' button');\n",
              "      quickchartButtonEl.disabled = true;  // To prevent multiple clicks.\n",
              "      quickchartButtonEl.classList.add('colab-df-spinner');\n",
              "      try {\n",
              "        const charts = await google.colab.kernel.invokeFunction(\n",
              "            'suggestCharts', [key], {});\n",
              "      } catch (error) {\n",
              "        console.error('Error during call to suggestCharts:', error);\n",
              "      }\n",
              "      quickchartButtonEl.classList.remove('colab-df-spinner');\n",
              "      quickchartButtonEl.classList.add('colab-df-quickchart-complete');\n",
              "    }\n",
              "    (() => {\n",
              "      let quickchartButtonEl =\n",
              "        document.querySelector('#df-4c31d309-1086-4610-9525-75c58517208b button');\n",
              "      quickchartButtonEl.style.display =\n",
              "        google.colab.kernel.accessAllowed ? 'block' : 'none';\n",
              "    })();\n",
              "  </script>\n",
              "</div>\n",
              "\n",
              "    </div>\n",
              "  </div>\n"
            ],
            "text/plain": [
              "                                               Tweet GT Target(Ground Truth)  \\\n",
              "0  My point was not that Genesis contradicted its...             creationism   \n",
              "1   I believe in evolution; evolution is the mech...             creationism   \n",
              "2  Should we just reject the big-bang as being un...             creationism   \n",
              "3  It is not 'appropriate' to teach creationism a...             creationism   \n",
              "4   Genetic tests have proven that we are very cl...             creationism   \n",
              "\n",
              "  GT Stance( Ground Truth)  Mapped Target  Generated Targets  Best Gen Target  \\\n",
              "0                  AGAINST            NaN                NaN              NaN   \n",
              "1                    FAVOR            NaN                NaN              NaN   \n",
              "2                    FAVOR            NaN                NaN              NaN   \n",
              "3                  AGAINST            NaN                NaN              NaN   \n",
              "4                  AGAINST            NaN                NaN              NaN   \n",
              "\n",
              "                                       Cleaned Tweet  \n",
              "0  point genesis contradicted took literally cont...  \n",
              "1  believe evolution evolution mechanism species ...  \n",
              "2  reject bigbang unscientific since would requir...  \n",
              "3  appropriate teach creationism means upholding ...  \n",
              "4  genetic tests proven closely related certain a...  "
            ]
          },
          "execution_count": 63,
          "metadata": {},
          "output_type": "execute_result"
        }
      ],
      "source": [
        "df.head()"
      ]
    },
    {
      "cell_type": "markdown",
      "metadata": {
        "id": "Bg8Zla6JkBM8"
      },
      "source": [
        "MAKING THE PREDICTION COLUMN IN DATAFRAME AND RECORDING THE TARGETS PREDITTED FROM THE MODEL"
      ]
    },
    {
      "cell_type": "code",
      "execution_count": null,
      "metadata": {
        "id": "ij3OhuaIRC6g"
      },
      "outputs": [],
      "source": [
        "df['Predictions'] = None\n",
        "\n",
        "for i in range(100):\n",
        "  response_json = predict_target_and_stance(df['Tweet'][i])\n",
        "  json_text=response_json['candidates'][0]['content']['parts'][0]['text']\n",
        "  json_text_cleaned = json_text.strip('```json\\n').strip('\\n``` ')\n",
        "  df.at[i, 'Predictions'] = json_text_cleaned"
      ]
    },
    {
      "cell_type": "code",
      "execution_count": null,
      "metadata": {
        "id": "4yrP8StOPVE8"
      },
      "outputs": [],
      "source": [
        "for i in range(100,200):\n",
        "  response_json = predict_target_and_stance(df['Tweet'][i])\n",
        "  json_text=response_json['candidates'][0]['content']['parts'][0]['text']\n",
        "  json_text_cleaned = json_text.strip('```json\\n').strip('\\n``` ')\n",
        "  df.at[i, 'Predictions'] = json_text_cleaned"
      ]
    },
    {
      "cell_type": "code",
      "execution_count": null,
      "metadata": {
        "id": "TUeFWfYBhdnQ"
      },
      "outputs": [],
      "source": [
        "for i in range(200,300):\n",
        "  response_json = predict_target_and_stance(df['Tweet'][i])\n",
        "  json_text=response_json['candidates'][0]['content']['parts'][0]['text']\n",
        "  json_text_cleaned = json_text.strip('```json\\n').strip('\\n``` ')\n",
        "  df.at[i, 'Predictions'] = json_text_cleaned"
      ]
    },
    {
      "cell_type": "code",
      "execution_count": null,
      "metadata": {
        "colab": {
          "background_save": true
        },
        "id": "0FkzcH0SizOn"
      },
      "outputs": [],
      "source": [
        "for i in range(300,400):\n",
        "  response_json = predict_target_and_stance(df['Tweet'][i])\n",
        "  json_text=response_json['candidates'][0]['content']['parts'][0]['text']\n",
        "  json_text_cleaned = json_text.strip('```json\\n').strip('\\n``` ')\n",
        "  df.at[i, 'Predictions'] = json_text_cleaned"
      ]
    },
    {
      "cell_type": "code",
      "execution_count": null,
      "metadata": {
        "id": "CoutHpZ9i2i3"
      },
      "outputs": [],
      "source": [
        "for i in range(400,500):\n",
        "  response_json = predict_target_and_stance(df['Tweet'][i])\n",
        "  json_text=response_json['candidates'][0]['content']['parts'][0]['text']\n",
        "  json_text_cleaned = json_text.strip('```json\\n').strip('\\n``` ')\n",
        "  df.at[i, 'Predictions'] = json_text_cleaned"
      ]
    },
    {
      "cell_type": "code",
      "execution_count": null,
      "metadata": {
        "id": "HJJuOSFIi4QD"
      },
      "outputs": [],
      "source": [
        "for i in range(500,600):\n",
        "  response_json = predict_target_and_stance(df['Tweet'][i])\n",
        "  json_text=response_json['candidates'][0]['content']['parts'][0]['text']\n",
        "  json_text_cleaned = json_text.strip('```json\\n').strip('\\n``` ')\n",
        "  df.at[i, 'Predictions'] = json_text_cleaned"
      ]
    },
    {
      "cell_type": "code",
      "execution_count": null,
      "metadata": {
        "id": "5qL-5sEei57A"
      },
      "outputs": [],
      "source": [
        "for i in range(600,700):\n",
        "  response_json = predict_target_and_stance(df['Tweet'][i])\n",
        "  json_text=response_json['candidates'][0]['content']['parts'][0]['text']\n",
        "  json_text_cleaned = json_text.strip('```json\\n').strip('\\n``` ')\n",
        "  df.at[i, 'Predictions'] = json_text_cleaned"
      ]
    },
    {
      "cell_type": "code",
      "execution_count": null,
      "metadata": {
        "id": "-4wn2GXgi7cR"
      },
      "outputs": [],
      "source": [
        "for i in range(700,800):\n",
        "  response_json = predict_target_and_stance(df['Tweet'][i])\n",
        "  json_text=response_json['candidates'][0]['content']['parts'][0]['text']\n",
        "  json_text_cleaned = json_text.strip('```json\\n').strip('\\n``` ')\n",
        "  df.at[i, 'Predictions'] = json_text_cleaned"
      ]
    },
    {
      "cell_type": "code",
      "execution_count": null,
      "metadata": {
        "id": "6ZqTcuvji86r"
      },
      "outputs": [],
      "source": [
        "for i in range(800,900):\n",
        "  response_json = predict_target_and_stance(df['Tweet'][i])\n",
        "  json_text=response_json['candidates'][0]['content']['parts'][0]['text']\n",
        "  json_text_cleaned = json_text.strip('```json\\n').strip('\\n``` ')\n",
        "  df.at[i, 'Predictions'] = json_text_cleaned"
      ]
    },
    {
      "cell_type": "code",
      "execution_count": null,
      "metadata": {
        "id": "axyyoPRHjO52"
      },
      "outputs": [],
      "source": [
        "for i in range(900,1000):\n",
        "  response_json = predict_target_and_stance(df['Tweet'][i])\n",
        "  json_text=response_json['candidates'][0]['content']['parts'][0]['text']\n",
        "  json_text_cleaned = json_text.strip('```json\\n').strip('\\n``` ')\n",
        "  df.at[i, 'Predictions'] = json_text_cleaned"
      ]
    },
    {
      "cell_type": "code",
      "execution_count": null,
      "metadata": {
        "id": "oCoKrGcsjSw0"
      },
      "outputs": [],
      "source": [
        "for i in range(1000,1100):\n",
        "  response_json = predict_target_and_stance(df['Tweet'][i])\n",
        "  json_text=response_json['candidates'][0]['content']['parts'][0]['text']\n",
        "  json_text_cleaned = json_text.strip('```json\\n').strip('\\n``` ')\n",
        "  df.at[i, 'Predictions'] = json_text_cleaned"
      ]
    },
    {
      "cell_type": "code",
      "execution_count": null,
      "metadata": {
        "id": "Nmqeu6GOjUYg"
      },
      "outputs": [],
      "source": [
        "for i in range(1200,1300):\n",
        "  response_json = predict_target_and_stance(df['Tweet'][i])\n",
        "  json_text=response_json['candidates'][0]['content']['parts'][0]['text']\n",
        "  json_text_cleaned = json_text.strip('```json\\n').strip('\\n``` ')\n",
        "  df.at[i, 'Predictions'] = json_text_cleaned"
      ]
    },
    {
      "cell_type": "code",
      "execution_count": null,
      "metadata": {
        "id": "UDv0d0bJjWB-"
      },
      "outputs": [],
      "source": [
        "for i in range(1300,1400):\n",
        "  response_json = predict_target_and_stance(df['Tweet'][i])\n",
        "  json_text=response_json['candidates'][0]['content']['parts'][0]['text']\n",
        "  json_text_cleaned = json_text.strip('```json\\n').strip('\\n``` ')\n",
        "  df.at[i, 'Predictions'] = json_text_cleaned"
      ]
    },
    {
      "cell_type": "code",
      "execution_count": null,
      "metadata": {
        "id": "dxKtr0YwjXjR"
      },
      "outputs": [],
      "source": [
        "for i in range(1400,1500):\n",
        "  response_json = predict_target_and_stance(df['Tweet'][i])\n",
        "  json_text=response_json['candidates'][0]['content']['parts'][0]['text']\n",
        "  json_text_cleaned = json_text.strip('```json\\n').strip('\\n``` ')\n",
        "  df.at[i, 'Predictions'] = json_text_cleaned"
      ]
    },
    {
      "cell_type": "code",
      "execution_count": null,
      "metadata": {
        "id": "3MOXSYxujmu4"
      },
      "outputs": [],
      "source": [
        "for i in range(1500,1600):\n",
        "  response_json = predict_target_and_stance(df['Tweet'][i])\n",
        "  json_text=response_json['candidates'][0]['content']['parts'][0]['text']\n",
        "  json_text_cleaned = json_text.strip('```json\\n').strip('\\n``` ')\n",
        "  df.at[i, 'Predictions'] = json_text_cleaned"
      ]
    },
    {
      "cell_type": "code",
      "execution_count": null,
      "metadata": {
        "id": "fX7-4vXR84tf"
      },
      "outputs": [],
      "source": [
        "for i in range(1600,1700):\n",
        "  response_json = predict_target_and_stance(df['Tweet'][i])\n",
        "  json_text=response_json['candidates'][0]['content']['parts'][0]['text']\n",
        "  json_text_cleaned = json_text.strip('```json\\n').strip('\\n``` ')\n",
        "  df.at[i, 'Predictions'] = json_text_cleaned"
      ]
    },
    {
      "cell_type": "code",
      "execution_count": null,
      "metadata": {
        "id": "VTo-vPsq895H"
      },
      "outputs": [],
      "source": [
        "for i in range(1700,1800):\n",
        "  response_json = predict_target_and_stance(df['Tweet'][i])\n",
        "  json_text=response_json['candidates'][0]['content']['parts'][0]['text']\n",
        "  json_text_cleaned = json_text.strip('```json\\n').strip('\\n``` ')\n",
        "  df.at[i, 'Predictions'] = json_text_cleaned"
      ]
    },
    {
      "cell_type": "code",
      "execution_count": null,
      "metadata": {
        "id": "R0lShhA89B-6"
      },
      "outputs": [],
      "source": [
        "for i in range(1800,1900):\n",
        "  response_json = predict_target_and_stance(df['Tweet'][i])\n",
        "  json_text=response_json['candidates'][0]['content']['parts'][0]['text']\n",
        "  json_text_cleaned = json_text.strip('```json\\n').strip('\\n``` ')\n",
        "  df.at[i, 'Predictions'] = json_text_cleaned"
      ]
    },
    {
      "cell_type": "code",
      "execution_count": null,
      "metadata": {
        "id": "SI0Dzzf_9H4N"
      },
      "outputs": [],
      "source": [
        "for i in range(1900,2000):\n",
        "  response_json = predict_target_and_stance(df['Tweet'][i])\n",
        "  json_text=response_json['candidates'][0]['content']['parts'][0]['text']\n",
        "  json_text_cleaned = json_text.strip('```json\\n').strip('\\n``` ')\n",
        "  df.at[i, 'Predictions'] = json_text_cleaned"
      ]
    },
    {
      "cell_type": "code",
      "execution_count": null,
      "metadata": {
        "id": "MproX1hD9MOV"
      },
      "outputs": [],
      "source": [
        "for i in range(2000,2100):\n",
        "  response_json = predict_target_and_stance(df['Tweet'][i])\n",
        "  json_text=response_json['candidates'][0]['content']['parts'][0]['text']\n",
        "  json_text_cleaned = json_text.strip('```json\\n').strip('\\n``` ')\n",
        "  df.at[i, 'Predictions'] = json_text_cleaned"
      ]
    },
    {
      "cell_type": "code",
      "execution_count": null,
      "metadata": {
        "id": "f99lmr-q9Qug"
      },
      "outputs": [],
      "source": [
        "for i in range(2100,2200):\n",
        "  response_json = predict_target_and_stance(df['Tweet'][i])\n",
        "  json_text=response_json['candidates'][0]['content']['parts'][0]['text']\n",
        "  json_text_cleaned = json_text.strip('```json\\n').strip('\\n``` ')\n",
        "  df.at[i, 'Predictions'] = json_text_cleaned"
      ]
    },
    {
      "cell_type": "code",
      "execution_count": null,
      "metadata": {
        "id": "dSBd6NSM9WO1"
      },
      "outputs": [],
      "source": [
        "for i in range(2200,2300):\n",
        "  response_json = predict_target_and_stance(df['Tweet'][i])\n",
        "  json_text=response_json['candidates'][0]['content']['parts'][0]['text']\n",
        "  json_text_cleaned = json_text.strip('```json\\n').strip('\\n``` ')\n",
        "  df.at[i, 'Predictions'] = json_text_cleaned"
      ]
    },
    {
      "cell_type": "code",
      "execution_count": null,
      "metadata": {
        "id": "pCbSW_079aPU"
      },
      "outputs": [],
      "source": [
        "for i in range(2300,2400):\n",
        "  response_json = predict_target_and_stance(df['Tweet'][i])\n",
        "  json_text=response_json['candidates'][0]['content']['parts'][0]['text']\n",
        "  json_text_cleaned = json_text.strip('```json\\n').strip('\\n``` ')\n",
        "  df.at[i, 'Predictions'] = json_text_cleaned"
      ]
    },
    {
      "cell_type": "code",
      "execution_count": null,
      "metadata": {
        "id": "HzkFoM3I9fHP"
      },
      "outputs": [],
      "source": [
        "for i in range(2500,2600):\n",
        "  response_json = predict_target_and_stance(df['Tweet'][i])\n",
        "  json_text=response_json['candidates'][0]['content']['parts'][0]['text']\n",
        "  json_text_cleaned = json_text.strip('```json\\n').strip('\\n``` ')\n",
        "  df.at[i, 'Predictions'] = json_text_cleaned"
      ]
    },
    {
      "cell_type": "code",
      "execution_count": null,
      "metadata": {
        "id": "xXxGSleg9iG4"
      },
      "outputs": [],
      "source": [
        "for i in range(2600,2700):\n",
        "  response_json = predict_target_and_stance(df['Tweet'][i])\n",
        "  json_text=response_json['candidates'][0]['content']['parts'][0]['text']\n",
        "  json_text_cleaned = json_text.strip('```json\\n').strip('\\n``` ')\n",
        "  df.at[i, 'Predictions'] = json_text_cleaned"
      ]
    },
    {
      "cell_type": "code",
      "execution_count": null,
      "metadata": {
        "id": "usgqmMCY9oCC"
      },
      "outputs": [],
      "source": [
        "for i in range(2700,2800):\n",
        "  response_json = predict_target_and_stance(df['Tweet'][i])\n",
        "  json_text=response_json['candidates'][0]['content']['parts'][0]['text']\n",
        "  json_text_cleaned = json_text.strip('```json\\n').strip('\\n``` ')\n",
        "  df.at[i, 'Predictions'] = json_text_cleaned"
      ]
    },
    {
      "cell_type": "code",
      "execution_count": null,
      "metadata": {
        "id": "r5qk1o0p9ri1"
      },
      "outputs": [],
      "source": [
        "for i in range(2800,2900):\n",
        "  response_json = predict_target_and_stance(df['Tweet'][i])\n",
        "  json_text=response_json['candidates'][0]['content']['parts'][0]['text']\n",
        "  json_text_cleaned = json_text.strip('```json\\n').strip('\\n``` ')\n",
        "  df.at[i, 'Predictions'] = json_text_cleaned"
      ]
    },
    {
      "cell_type": "code",
      "execution_count": null,
      "metadata": {
        "id": "lQIkdIwB9ysP"
      },
      "outputs": [],
      "source": [
        "for i in range(2900,3000):\n",
        "  response_json = predict_target_and_stance(df['Tweet'][i])\n",
        "  json_text=response_json['candidates'][0]['content']['parts'][0]['text']\n",
        "  json_text_cleaned = json_text.strip('```json\\n').strip('\\n``` ')\n",
        "  df.at[i, 'Predictions'] = json_text_cleaned"
      ]
    },
    {
      "cell_type": "code",
      "execution_count": null,
      "metadata": {
        "id": "zqLbgpu593Rt"
      },
      "outputs": [],
      "source": [
        "for i in range(3100,3200):\n",
        "  response_json = predict_target_and_stance(df['Tweet'][i])\n",
        "  json_text=response_json['candidates'][0]['content']['parts'][0]['text']\n",
        "  json_text_cleaned = json_text.strip('```json\\n').strip('\\n``` ')\n",
        "  df.at[i, 'Predictions'] = json_text_cleaned"
      ]
    },
    {
      "cell_type": "code",
      "execution_count": null,
      "metadata": {
        "id": "-vcBk_Hv97CI"
      },
      "outputs": [],
      "source": [
        "for i in range(3200,3300):\n",
        "  response_json = predict_target_and_stance(df['Tweet'][i])\n",
        "  json_text=response_json['candidates'][0]['content']['parts'][0]['text']\n",
        "  json_text_cleaned = json_text.strip('```json\\n').strip('\\n``` ')\n",
        "  df.at[i, 'Predictions'] = json_text_cleaned"
      ]
    },
    {
      "cell_type": "code",
      "execution_count": null,
      "metadata": {
        "id": "cSmkxFRK-B1c"
      },
      "outputs": [],
      "source": [
        "for i in range(3300,3400):\n",
        "  response_json = predict_target_and_stance(df['Tweet'][i])\n",
        "  json_text=response_json['candidates'][0]['content']['parts'][0]['text']\n",
        "  json_text_cleaned = json_text.strip('```json\\n').strip('\\n``` ')\n",
        "  df.at[i, 'Predictions'] = json_text_cleaned"
      ]
    },
    {
      "cell_type": "code",
      "execution_count": null,
      "metadata": {
        "id": "u6l1HZQb-FF9"
      },
      "outputs": [],
      "source": [
        "for i in range(3400,3500):\n",
        "  response_json = predict_target_and_stance(df['Tweet'][i])\n",
        "  json_text=response_json['candidates'][0]['content']['parts'][0]['text']\n",
        "  json_text_cleaned = json_text.strip('```json\\n').strip('\\n``` ')\n",
        "  df.at[i, 'Predictions'] = json_text_cleaned"
      ]
    },
    {
      "cell_type": "code",
      "execution_count": null,
      "metadata": {
        "id": "CeWCSyzE-Nc7"
      },
      "outputs": [],
      "source": [
        "for i in range(3500,3600):\n",
        "  response_json = predict_target_and_stance(df['Tweet'][i])\n",
        "  json_text=response_json['candidates'][0]['content']['parts'][0]['text']\n",
        "  json_text_cleaned = json_text.strip('```json\\n').strip('\\n``` ')\n",
        "  df.at[i, 'Predictions'] = json_text_cleaned"
      ]
    },
    {
      "cell_type": "markdown",
      "metadata": {
        "id": "BVaAy6_ckTpu"
      },
      "source": [
        "PREPROCESSING OF RESULT BEFORE EVALUVATION"
      ]
    },
    {
      "cell_type": "code",
      "execution_count": null,
      "metadata": {
        "id": "ayw7WJe5FJMX"
      },
      "outputs": [],
      "source": [
        "phrases_to_remove = ['gun control']\n",
        "\n",
        "# Remove the specified phrases from the text\n",
        "for i in range(len(df)):\n",
        "    p = df.loc[i, 'Predictions']\n",
        "    if p is not None:  # Check if p is not None before applying replace\n",
        "        for phrase in phrases_to_remove:\n",
        "            p = p.replace(phrase, '').strip()\n",
        "        df.at[i, 'Predictions'] = p # Update the DataFrame"
      ]
    },
    {
      "cell_type": "code",
      "execution_count": null,
      "metadata": {
        "colab": {
          "base_uri": "https://localhost:8080/",
          "height": 35
        },
        "id": "zq6v_vvliY1m",
        "outputId": "227e87cd-6ecf-41fb-8cae-41539ec21c0c"
      },
      "outputs": [
        {
          "data": {
            "application/vnd.google.colaboratory.intrinsic+json": {
              "type": "string"
            },
            "text/plain": [
              "'as of jan the nra had approximately million members though estimates have varied from million to million members'"
            ]
          },
          "execution_count": 59,
          "metadata": {},
          "output_type": "execute_result"
        }
      ],
      "source": [
        "df['Tweet'][1034]"
      ]
    },
    {
      "cell_type": "code",
      "execution_count": null,
      "metadata": {
        "colab": {
          "base_uri": "https://localhost:8080/",
          "height": 554
        },
        "id": "PZP6i2MiGDLv",
        "outputId": "129516af-c589-4106-e883-738d1f9e50f5"
      },
      "outputs": [
        {
          "data": {
            "application/vnd.google.colaboratory.intrinsic+json": {
              "summary": "{\n  \"name\": \"df[320:330]\",\n  \"rows\": 10,\n  \"fields\": [\n    {\n      \"column\": \"Unnamed: 0.1\",\n      \"properties\": {\n        \"dtype\": \"number\",\n        \"std\": 3,\n        \"min\": 45758,\n        \"max\": 45767,\n        \"num_unique_values\": 10,\n        \"samples\": [\n          45766,\n          45759,\n          45763\n        ],\n        \"semantic_type\": \"\",\n        \"description\": \"\"\n      }\n    },\n    {\n      \"column\": \"Unnamed: 0\",\n      \"properties\": {\n        \"dtype\": \"number\",\n        \"std\": 3,\n        \"min\": 45759,\n        \"max\": 45768,\n        \"num_unique_values\": 10,\n        \"samples\": [\n          45767,\n          45760,\n          45764\n        ],\n        \"semantic_type\": \"\",\n        \"description\": \"\"\n      }\n    },\n    {\n      \"column\": \"Tweet\",\n      \"properties\": {\n        \"dtype\": \"string\",\n        \"num_unique_values\": 10,\n        \"samples\": [\n          \"death is an experience that can not be experienced and ends all experience\",\n          \"no civilian s job description should include killing another person\",\n          \"if improvements are needed in the system of representation or in the use of scientific evidence such as dna testing then those reforms should be instituted\"\n        ],\n        \"semantic_type\": \"\",\n        \"description\": \"\"\n      }\n    },\n    {\n      \"column\": \"Target\",\n      \"properties\": {\n        \"dtype\": \"category\",\n        \"num_unique_values\": 1,\n        \"samples\": [\n          \"death penalty\"\n        ],\n        \"semantic_type\": \"\",\n        \"description\": \"\"\n      }\n    },\n    {\n      \"column\": \"Stance\",\n      \"properties\": {\n        \"dtype\": \"category\",\n        \"num_unique_values\": 3,\n        \"samples\": [\n          \"NONE\"\n        ],\n        \"semantic_type\": \"\",\n        \"description\": \"\"\n      }\n    },\n    {\n      \"column\": \"ID\",\n      \"properties\": {\n        \"dtype\": \"number\",\n        \"std\": 0,\n        \"min\": 9,\n        \"max\": 9,\n        \"num_unique_values\": 1,\n        \"samples\": [\n          9\n        ],\n        \"semantic_type\": \"\",\n        \"description\": \"\"\n      }\n    },\n    {\n      \"column\": \"Target_ID\",\n      \"properties\": {\n        \"dtype\": \"number\",\n        \"std\": 0,\n        \"min\": 10,\n        \"max\": 10,\n        \"num_unique_values\": 1,\n        \"samples\": [\n          10\n        ],\n        \"semantic_type\": \"\",\n        \"description\": \"\"\n      }\n    },\n    {\n      \"column\": \"Predictions\",\n      \"properties\": {\n        \"dtype\": \"category\",\n        \"num_unique_values\": 3,\n        \"samples\": [\n          \"\"\n        ],\n        \"semantic_type\": \"\",\n        \"description\": \"\"\n      }\n    }\n  ]\n}",
              "type": "dataframe"
            },
            "text/html": [
              "\n",
              "  <div id=\"df-e3e56697-1ad4-4565-b164-00f5bd4d6060\" class=\"colab-df-container\">\n",
              "    <div>\n",
              "<style scoped>\n",
              "    .dataframe tbody tr th:only-of-type {\n",
              "        vertical-align: middle;\n",
              "    }\n",
              "\n",
              "    .dataframe tbody tr th {\n",
              "        vertical-align: top;\n",
              "    }\n",
              "\n",
              "    .dataframe thead th {\n",
              "        text-align: right;\n",
              "    }\n",
              "</style>\n",
              "<table border=\"1\" class=\"dataframe\">\n",
              "  <thead>\n",
              "    <tr style=\"text-align: right;\">\n",
              "      <th></th>\n",
              "      <th>Unnamed: 0.1</th>\n",
              "      <th>Unnamed: 0</th>\n",
              "      <th>Tweet</th>\n",
              "      <th>Target</th>\n",
              "      <th>Stance</th>\n",
              "      <th>ID</th>\n",
              "      <th>Target_ID</th>\n",
              "      <th>Predictions</th>\n",
              "    </tr>\n",
              "  </thead>\n",
              "  <tbody>\n",
              "    <tr>\n",
              "      <th>320</th>\n",
              "      <td>45758</td>\n",
              "      <td>45759</td>\n",
              "      <td>whether it should be carried out or not has be...</td>\n",
              "      <td>death penalty</td>\n",
              "      <td>NONE</td>\n",
              "      <td>9</td>\n",
              "      <td>10</td>\n",
              "      <td></td>\n",
              "    </tr>\n",
              "    <tr>\n",
              "      <th>321</th>\n",
              "      <td>45759</td>\n",
              "      <td>45760</td>\n",
              "      <td>no civilian s job description should include k...</td>\n",
              "      <td>death penalty</td>\n",
              "      <td>AGAINST</td>\n",
              "      <td>9</td>\n",
              "      <td>10</td>\n",
              "      <td></td>\n",
              "    </tr>\n",
              "    <tr>\n",
              "      <th>322</th>\n",
              "      <td>45760</td>\n",
              "      <td>45761</td>\n",
              "      <td>granted we are not able to ask the dead whethe...</td>\n",
              "      <td>death penalty</td>\n",
              "      <td>FAVOR</td>\n",
              "      <td>9</td>\n",
              "      <td>10</td>\n",
              "      <td>death penaltydeath penalty</td>\n",
              "    </tr>\n",
              "    <tr>\n",
              "      <th>323</th>\n",
              "      <td>45761</td>\n",
              "      <td>45762</td>\n",
              "      <td>this system is broken</td>\n",
              "      <td>death penalty</td>\n",
              "      <td>NONE</td>\n",
              "      <td>9</td>\n",
              "      <td>10</td>\n",
              "      <td></td>\n",
              "    </tr>\n",
              "    <tr>\n",
              "      <th>324</th>\n",
              "      <td>45762</td>\n",
              "      <td>45763</td>\n",
              "      <td>pro simply because an execution method may res...</td>\n",
              "      <td>death penalty</td>\n",
              "      <td>FAVOR</td>\n",
              "      <td>9</td>\n",
              "      <td>10</td>\n",
              "      <td>death penaltydeath penalty</td>\n",
              "    </tr>\n",
              "    <tr>\n",
              "      <th>325</th>\n",
              "      <td>45763</td>\n",
              "      <td>45764</td>\n",
              "      <td>if improvements are needed in the system of re...</td>\n",
              "      <td>death penalty</td>\n",
              "      <td>NONE</td>\n",
              "      <td>9</td>\n",
              "      <td>10</td>\n",
              "      <td></td>\n",
              "    </tr>\n",
              "    <tr>\n",
              "      <th>326</th>\n",
              "      <td>45764</td>\n",
              "      <td>45765</td>\n",
              "      <td>scholars psychologists activists all pour into...</td>\n",
              "      <td>death penalty</td>\n",
              "      <td>NONE</td>\n",
              "      <td>9</td>\n",
              "      <td>10</td>\n",
              "      <td>death penaltydeath penalty</td>\n",
              "    </tr>\n",
              "    <tr>\n",
              "      <th>327</th>\n",
              "      <td>45765</td>\n",
              "      <td>45766</td>\n",
              "      <td>t he claim that t his sentence rests on the ir...</td>\n",
              "      <td>death penalty</td>\n",
              "      <td>NONE</td>\n",
              "      <td>9</td>\n",
              "      <td>10</td>\n",
              "      <td></td>\n",
              "    </tr>\n",
              "    <tr>\n",
              "      <th>328</th>\n",
              "      <td>45766</td>\n",
              "      <td>45767</td>\n",
              "      <td>death is an experience that can not be experie...</td>\n",
              "      <td>death penalty</td>\n",
              "      <td>NONE</td>\n",
              "      <td>9</td>\n",
              "      <td>10</td>\n",
              "      <td>death penaltydeath penalty</td>\n",
              "    </tr>\n",
              "    <tr>\n",
              "      <th>329</th>\n",
              "      <td>45767</td>\n",
              "      <td>45768</td>\n",
              "      <td>murder always tragic seems to be a more heinou...</td>\n",
              "      <td>death penalty</td>\n",
              "      <td>NONE</td>\n",
              "      <td>9</td>\n",
              "      <td>10</td>\n",
              "      <td>gunclontrol</td>\n",
              "    </tr>\n",
              "  </tbody>\n",
              "</table>\n",
              "</div>\n",
              "    <div class=\"colab-df-buttons\">\n",
              "\n",
              "  <div class=\"colab-df-container\">\n",
              "    <button class=\"colab-df-convert\" onclick=\"convertToInteractive('df-e3e56697-1ad4-4565-b164-00f5bd4d6060')\"\n",
              "            title=\"Convert this dataframe to an interactive table.\"\n",
              "            style=\"display:none;\">\n",
              "\n",
              "  <svg xmlns=\"http://www.w3.org/2000/svg\" height=\"24px\" viewBox=\"0 -960 960 960\">\n",
              "    <path d=\"M120-120v-720h720v720H120Zm60-500h600v-160H180v160Zm220 220h160v-160H400v160Zm0 220h160v-160H400v160ZM180-400h160v-160H180v160Zm440 0h160v-160H620v160ZM180-180h160v-160H180v160Zm440 0h160v-160H620v160Z\"/>\n",
              "  </svg>\n",
              "    </button>\n",
              "\n",
              "  <style>\n",
              "    .colab-df-container {\n",
              "      display:flex;\n",
              "      gap: 12px;\n",
              "    }\n",
              "\n",
              "    .colab-df-convert {\n",
              "      background-color: #E8F0FE;\n",
              "      border: none;\n",
              "      border-radius: 50%;\n",
              "      cursor: pointer;\n",
              "      display: none;\n",
              "      fill: #1967D2;\n",
              "      height: 32px;\n",
              "      padding: 0 0 0 0;\n",
              "      width: 32px;\n",
              "    }\n",
              "\n",
              "    .colab-df-convert:hover {\n",
              "      background-color: #E2EBFA;\n",
              "      box-shadow: 0px 1px 2px rgba(60, 64, 67, 0.3), 0px 1px 3px 1px rgba(60, 64, 67, 0.15);\n",
              "      fill: #174EA6;\n",
              "    }\n",
              "\n",
              "    .colab-df-buttons div {\n",
              "      margin-bottom: 4px;\n",
              "    }\n",
              "\n",
              "    [theme=dark] .colab-df-convert {\n",
              "      background-color: #3B4455;\n",
              "      fill: #D2E3FC;\n",
              "    }\n",
              "\n",
              "    [theme=dark] .colab-df-convert:hover {\n",
              "      background-color: #434B5C;\n",
              "      box-shadow: 0px 1px 3px 1px rgba(0, 0, 0, 0.15);\n",
              "      filter: drop-shadow(0px 1px 2px rgba(0, 0, 0, 0.3));\n",
              "      fill: #FFFFFF;\n",
              "    }\n",
              "  </style>\n",
              "\n",
              "    <script>\n",
              "      const buttonEl =\n",
              "        document.querySelector('#df-e3e56697-1ad4-4565-b164-00f5bd4d6060 button.colab-df-convert');\n",
              "      buttonEl.style.display =\n",
              "        google.colab.kernel.accessAllowed ? 'block' : 'none';\n",
              "\n",
              "      async function convertToInteractive(key) {\n",
              "        const element = document.querySelector('#df-e3e56697-1ad4-4565-b164-00f5bd4d6060');\n",
              "        const dataTable =\n",
              "          await google.colab.kernel.invokeFunction('convertToInteractive',\n",
              "                                                    [key], {});\n",
              "        if (!dataTable) return;\n",
              "\n",
              "        const docLinkHtml = 'Like what you see? Visit the ' +\n",
              "          '<a target=\"_blank\" href=https://colab.research.google.com/notebooks/data_table.ipynb>data table notebook</a>'\n",
              "          + ' to learn more about interactive tables.';\n",
              "        element.innerHTML = '';\n",
              "        dataTable['output_type'] = 'display_data';\n",
              "        await google.colab.output.renderOutput(dataTable, element);\n",
              "        const docLink = document.createElement('div');\n",
              "        docLink.innerHTML = docLinkHtml;\n",
              "        element.appendChild(docLink);\n",
              "      }\n",
              "    </script>\n",
              "  </div>\n",
              "\n",
              "\n",
              "<div id=\"df-0c8b9f70-aac3-4736-aa85-720368874251\">\n",
              "  <button class=\"colab-df-quickchart\" onclick=\"quickchart('df-0c8b9f70-aac3-4736-aa85-720368874251')\"\n",
              "            title=\"Suggest charts\"\n",
              "            style=\"display:none;\">\n",
              "\n",
              "<svg xmlns=\"http://www.w3.org/2000/svg\" height=\"24px\"viewBox=\"0 0 24 24\"\n",
              "     width=\"24px\">\n",
              "    <g>\n",
              "        <path d=\"M19 3H5c-1.1 0-2 .9-2 2v14c0 1.1.9 2 2 2h14c1.1 0 2-.9 2-2V5c0-1.1-.9-2-2-2zM9 17H7v-7h2v7zm4 0h-2V7h2v10zm4 0h-2v-4h2v4z\"/>\n",
              "    </g>\n",
              "</svg>\n",
              "  </button>\n",
              "\n",
              "<style>\n",
              "  .colab-df-quickchart {\n",
              "      --bg-color: #E8F0FE;\n",
              "      --fill-color: #1967D2;\n",
              "      --hover-bg-color: #E2EBFA;\n",
              "      --hover-fill-color: #174EA6;\n",
              "      --disabled-fill-color: #AAA;\n",
              "      --disabled-bg-color: #DDD;\n",
              "  }\n",
              "\n",
              "  [theme=dark] .colab-df-quickchart {\n",
              "      --bg-color: #3B4455;\n",
              "      --fill-color: #D2E3FC;\n",
              "      --hover-bg-color: #434B5C;\n",
              "      --hover-fill-color: #FFFFFF;\n",
              "      --disabled-bg-color: #3B4455;\n",
              "      --disabled-fill-color: #666;\n",
              "  }\n",
              "\n",
              "  .colab-df-quickchart {\n",
              "    background-color: var(--bg-color);\n",
              "    border: none;\n",
              "    border-radius: 50%;\n",
              "    cursor: pointer;\n",
              "    display: none;\n",
              "    fill: var(--fill-color);\n",
              "    height: 32px;\n",
              "    padding: 0;\n",
              "    width: 32px;\n",
              "  }\n",
              "\n",
              "  .colab-df-quickchart:hover {\n",
              "    background-color: var(--hover-bg-color);\n",
              "    box-shadow: 0 1px 2px rgba(60, 64, 67, 0.3), 0 1px 3px 1px rgba(60, 64, 67, 0.15);\n",
              "    fill: var(--button-hover-fill-color);\n",
              "  }\n",
              "\n",
              "  .colab-df-quickchart-complete:disabled,\n",
              "  .colab-df-quickchart-complete:disabled:hover {\n",
              "    background-color: var(--disabled-bg-color);\n",
              "    fill: var(--disabled-fill-color);\n",
              "    box-shadow: none;\n",
              "  }\n",
              "\n",
              "  .colab-df-spinner {\n",
              "    border: 2px solid var(--fill-color);\n",
              "    border-color: transparent;\n",
              "    border-bottom-color: var(--fill-color);\n",
              "    animation:\n",
              "      spin 1s steps(1) infinite;\n",
              "  }\n",
              "\n",
              "  @keyframes spin {\n",
              "    0% {\n",
              "      border-color: transparent;\n",
              "      border-bottom-color: var(--fill-color);\n",
              "      border-left-color: var(--fill-color);\n",
              "    }\n",
              "    20% {\n",
              "      border-color: transparent;\n",
              "      border-left-color: var(--fill-color);\n",
              "      border-top-color: var(--fill-color);\n",
              "    }\n",
              "    30% {\n",
              "      border-color: transparent;\n",
              "      border-left-color: var(--fill-color);\n",
              "      border-top-color: var(--fill-color);\n",
              "      border-right-color: var(--fill-color);\n",
              "    }\n",
              "    40% {\n",
              "      border-color: transparent;\n",
              "      border-right-color: var(--fill-color);\n",
              "      border-top-color: var(--fill-color);\n",
              "    }\n",
              "    60% {\n",
              "      border-color: transparent;\n",
              "      border-right-color: var(--fill-color);\n",
              "    }\n",
              "    80% {\n",
              "      border-color: transparent;\n",
              "      border-right-color: var(--fill-color);\n",
              "      border-bottom-color: var(--fill-color);\n",
              "    }\n",
              "    90% {\n",
              "      border-color: transparent;\n",
              "      border-bottom-color: var(--fill-color);\n",
              "    }\n",
              "  }\n",
              "</style>\n",
              "\n",
              "  <script>\n",
              "    async function quickchart(key) {\n",
              "      const quickchartButtonEl =\n",
              "        document.querySelector('#' + key + ' button');\n",
              "      quickchartButtonEl.disabled = true;  // To prevent multiple clicks.\n",
              "      quickchartButtonEl.classList.add('colab-df-spinner');\n",
              "      try {\n",
              "        const charts = await google.colab.kernel.invokeFunction(\n",
              "            'suggestCharts', [key], {});\n",
              "      } catch (error) {\n",
              "        console.error('Error during call to suggestCharts:', error);\n",
              "      }\n",
              "      quickchartButtonEl.classList.remove('colab-df-spinner');\n",
              "      quickchartButtonEl.classList.add('colab-df-quickchart-complete');\n",
              "    }\n",
              "    (() => {\n",
              "      let quickchartButtonEl =\n",
              "        document.querySelector('#df-0c8b9f70-aac3-4736-aa85-720368874251 button');\n",
              "      quickchartButtonEl.style.display =\n",
              "        google.colab.kernel.accessAllowed ? 'block' : 'none';\n",
              "    })();\n",
              "  </script>\n",
              "</div>\n",
              "\n",
              "    </div>\n",
              "  </div>\n"
            ],
            "text/plain": [
              "     Unnamed: 0.1  Unnamed: 0  \\\n",
              "320         45758       45759   \n",
              "321         45759       45760   \n",
              "322         45760       45761   \n",
              "323         45761       45762   \n",
              "324         45762       45763   \n",
              "325         45763       45764   \n",
              "326         45764       45765   \n",
              "327         45765       45766   \n",
              "328         45766       45767   \n",
              "329         45767       45768   \n",
              "\n",
              "                                                 Tweet         Target  \\\n",
              "320  whether it should be carried out or not has be...  death penalty   \n",
              "321  no civilian s job description should include k...  death penalty   \n",
              "322  granted we are not able to ask the dead whethe...  death penalty   \n",
              "323                              this system is broken  death penalty   \n",
              "324  pro simply because an execution method may res...  death penalty   \n",
              "325  if improvements are needed in the system of re...  death penalty   \n",
              "326  scholars psychologists activists all pour into...  death penalty   \n",
              "327  t he claim that t his sentence rests on the ir...  death penalty   \n",
              "328  death is an experience that can not be experie...  death penalty   \n",
              "329  murder always tragic seems to be a more heinou...  death penalty   \n",
              "\n",
              "      Stance  ID  Target_ID                 Predictions  \n",
              "320     NONE   9         10                              \n",
              "321  AGAINST   9         10                              \n",
              "322    FAVOR   9         10  death penaltydeath penalty  \n",
              "323     NONE   9         10                              \n",
              "324    FAVOR   9         10  death penaltydeath penalty  \n",
              "325     NONE   9         10                              \n",
              "326     NONE   9         10  death penaltydeath penalty  \n",
              "327     NONE   9         10                              \n",
              "328     NONE   9         10  death penaltydeath penalty  \n",
              "329     NONE   9         10                 gunclontrol  "
            ]
          },
          "execution_count": 52,
          "metadata": {},
          "output_type": "execute_result"
        }
      ],
      "source": [
        "df[30:330]"
      ]
    },
    {
      "cell_type": "markdown",
      "metadata": {
        "id": "LrAya1Juka9c"
      },
      "source": [
        "GIVING THE ACCURACY REPORT"
      ]
    },
    {
      "cell_type": "code",
      "execution_count": null,
      "metadata": {
        "colab": {
          "base_uri": "https://localhost:8080/"
        },
        "id": "8BNC5jTzTYfy",
        "outputId": "15350295-b2c3-417a-dd73-e5fccbdad1bc"
      },
      "outputs": [
        {
          "name": "stdout",
          "output_type": "stream",
          "text": [
            "Target Accuracy: 0.42\n",
            "Target Classification Report:\n",
            "                                                                                                                                precision    recall  f1-score   support\n",
            "\n",
            "                                                                                                                                     0.00      0.00      0.00         0\n",
            "Genetically Modified Organisms (GMOs)cloningminimum wagemarijuana legalizationabortionminimum wagemarijuana legalizationaborti       0.00      0.00      0.00         0\n",
            "                                                                                                                      abortion       0.00      0.00      0.00         0\n",
            "                                                                                                                       cloning       1.00      0.88      0.93        96\n",
            "                                                                                                             cloningguncloning       0.00      0.00      0.00         0\n",
            "                                                                                                             cloningguncontrol       0.00      0.00      0.00         0\n",
            "                                                                               cloningminimum wagemarijuana legalizationaborti       0.00      0.00      0.00         0\n",
            "                                                                                                                 death penalty       0.00      0.00      0.00       104\n",
            "                                                                                                       gunmarijuana legalizati       0.00      0.00      0.00         0\n",
            "                                                                                                          marijuana legalizati       0.00      0.00      0.00         0\n",
            "                                                                                      minimum wagemarijuana legalizationaborti       0.00      0.00      0.00         0\n",
            "\n",
            "                                                                                                                      accuracy                           0.42       200\n",
            "                                                                                                                     macro avg       0.09      0.08      0.08       200\n",
            "                                                                                                                  weighted avg       0.48      0.42      0.45       200\n",
            "\n"
          ]
        },
        {
          "name": "stderr",
          "output_type": "stream",
          "text": [
            "/usr/local/lib/python3.10/dist-packages/sklearn/metrics/_classification.py:1471: UndefinedMetricWarning: Precision and F-score are ill-defined and being set to 0.0 in labels with no predicted samples. Use `zero_division` parameter to control this behavior.\n",
            "  _warn_prf(average, modifier, msg_start, len(result))\n",
            "/usr/local/lib/python3.10/dist-packages/sklearn/metrics/_classification.py:1471: UndefinedMetricWarning: Recall and F-score are ill-defined and being set to 0.0 in labels with no true samples. Use `zero_division` parameter to control this behavior.\n",
            "  _warn_prf(average, modifier, msg_start, len(result))\n",
            "/usr/local/lib/python3.10/dist-packages/sklearn/metrics/_classification.py:1471: UndefinedMetricWarning: Precision and F-score are ill-defined and being set to 0.0 in labels with no predicted samples. Use `zero_division` parameter to control this behavior.\n",
            "  _warn_prf(average, modifier, msg_start, len(result))\n",
            "/usr/local/lib/python3.10/dist-packages/sklearn/metrics/_classification.py:1471: UndefinedMetricWarning: Recall and F-score are ill-defined and being set to 0.0 in labels with no true samples. Use `zero_division` parameter to control this behavior.\n",
            "  _warn_prf(average, modifier, msg_start, len(result))\n",
            "/usr/local/lib/python3.10/dist-packages/sklearn/metrics/_classification.py:1471: UndefinedMetricWarning: Precision and F-score are ill-defined and being set to 0.0 in labels with no predicted samples. Use `zero_division` parameter to control this behavior.\n",
            "  _warn_prf(average, modifier, msg_start, len(result))\n",
            "/usr/local/lib/python3.10/dist-packages/sklearn/metrics/_classification.py:1471: UndefinedMetricWarning: Recall and F-score are ill-defined and being set to 0.0 in labels with no true samples. Use `zero_division` parameter to control this behavior.\n",
            "  _warn_prf(average, modifier, msg_start, len(result))\n"
          ]
        }
      ],
      "source": [
        "\n",
        "from sklearn.metrics import accuracy_score, classification_report\n",
        "\n",
        "# Assuming you want to evaluate on the first 200 samples\n",
        "target_accuracy = accuracy_score(df['Target'][:200], df['Predictions'][:200]) # Use 'Predictions' column from df\n",
        "target_classification_report = classification_report(df['Target'][:200], df['Predictions'][:200])\n",
        "\n",
        "print(f\"Target Accuracy: {target_accuracy}\")\n",
        "print(\"Target Classification Report:\")\n",
        "print(target_classification_report)"
      ]
    },
    {
      "cell_type": "code",
      "execution_count": null,
      "metadata": {
        "id": "Y7aYHkwKTjAS"
      },
      "outputs": [],
      "source": [
        "import pandas as pd\n",
        "import seaborn as sns\n",
        "\n",
        "model = operation.result()\n",
        "\n",
        "snapshots = pd.DataFrame(model.tuning_task.snapshots)\n",
        "\n",
        "sns.lineplot(data=snapshots, x = 'epoch', y='mean_loss')"
      ]
    }
  ],
  "metadata": {
    "colab": {
      "provenance": [],
      "authorship_tag": "ABX9TyMoIrmIfaEry/n1+Lq99sxC",
      "include_colab_link": true
    },
    "kernelspec": {
      "display_name": "Python 3",
      "name": "python3"
    },
    "language_info": {
      "name": "python"
    },
    "widgets": {
      "application/vnd.jupyter.widget-state+json": {
        "2648f7baf45f43999b9c4ae9b3f54cdd": {
          "model_module": "@jupyter-widgets/controls",
          "model_module_version": "1.5.0",
          "model_name": "HTMLModel",
          "state": {
            "_dom_classes": [],
            "_model_module": "@jupyter-widgets/controls",
            "_model_module_version": "1.5.0",
            "_model_name": "HTMLModel",
            "_view_count": null,
            "_view_module": "@jupyter-widgets/controls",
            "_view_module_version": "1.5.0",
            "_view_name": "HTMLView",
            "description": "",
            "description_tooltip": null,
            "layout": "IPY_MODEL_b62fb971a6a24e43b72eda0cce837997",
            "placeholder": "​",
            "style": "IPY_MODEL_b66b709604734d01940664391fc95ba3",
            "value": "  0%"
          }
        },
        "2caef0dac4ef45d99f0316215d5f9c5a": {
          "model_module": "@jupyter-widgets/controls",
          "model_module_version": "1.5.0",
          "model_name": "HBoxModel",
          "state": {
            "_dom_classes": [],
            "_model_module": "@jupyter-widgets/controls",
            "_model_module_version": "1.5.0",
            "_model_name": "HBoxModel",
            "_view_count": null,
            "_view_module": "@jupyter-widgets/controls",
            "_view_module_version": "1.5.0",
            "_view_name": "HBoxView",
            "box_style": "",
            "children": [
              "IPY_MODEL_2648f7baf45f43999b9c4ae9b3f54cdd",
              "IPY_MODEL_5f3e7f3cc03b4e84b41e3e1f70e9e640",
              "IPY_MODEL_472d3c04e5bc4d00ab3944f0eb9a962f"
            ],
            "layout": "IPY_MODEL_69729e7f421e4fdb81ab7928f5f4d4b3"
          }
        },
        "472d3c04e5bc4d00ab3944f0eb9a962f": {
          "model_module": "@jupyter-widgets/controls",
          "model_module_version": "1.5.0",
          "model_name": "HTMLModel",
          "state": {
            "_dom_classes": [],
            "_model_module": "@jupyter-widgets/controls",
            "_model_module_version": "1.5.0",
            "_model_name": "HTMLModel",
            "_view_count": null,
            "_view_module": "@jupyter-widgets/controls",
            "_view_module_version": "1.5.0",
            "_view_name": "HTMLView",
            "description": "",
            "description_tooltip": null,
            "layout": "IPY_MODEL_f1bbf463a80a4baebd423431b179c87a",
            "placeholder": "​",
            "style": "IPY_MODEL_8610827998c14a07969cfe5a794b54f8",
            "value": " 0/60 [19:16&lt;?, ?it/s]"
          }
        },
        "5f3e7f3cc03b4e84b41e3e1f70e9e640": {
          "model_module": "@jupyter-widgets/controls",
          "model_module_version": "1.5.0",
          "model_name": "FloatProgressModel",
          "state": {
            "_dom_classes": [],
            "_model_module": "@jupyter-widgets/controls",
            "_model_module_version": "1.5.0",
            "_model_name": "FloatProgressModel",
            "_view_count": null,
            "_view_module": "@jupyter-widgets/controls",
            "_view_module_version": "1.5.0",
            "_view_name": "ProgressView",
            "bar_style": "danger",
            "description": "",
            "description_tooltip": null,
            "layout": "IPY_MODEL_9d7830062e014d5f9cc334a4107583a4",
            "max": 60,
            "min": 0,
            "orientation": "horizontal",
            "style": "IPY_MODEL_cd74c8dc0ca4491598c2496dea6bb3a6",
            "value": 0
          }
        },
        "69729e7f421e4fdb81ab7928f5f4d4b3": {
          "model_module": "@jupyter-widgets/base",
          "model_module_version": "1.2.0",
          "model_name": "LayoutModel",
          "state": {
            "_model_module": "@jupyter-widgets/base",
            "_model_module_version": "1.2.0",
            "_model_name": "LayoutModel",
            "_view_count": null,
            "_view_module": "@jupyter-widgets/base",
            "_view_module_version": "1.2.0",
            "_view_name": "LayoutView",
            "align_content": null,
            "align_items": null,
            "align_self": null,
            "border": null,
            "bottom": null,
            "display": null,
            "flex": null,
            "flex_flow": null,
            "grid_area": null,
            "grid_auto_columns": null,
            "grid_auto_flow": null,
            "grid_auto_rows": null,
            "grid_column": null,
            "grid_gap": null,
            "grid_row": null,
            "grid_template_areas": null,
            "grid_template_columns": null,
            "grid_template_rows": null,
            "height": null,
            "justify_content": null,
            "justify_items": null,
            "left": null,
            "margin": null,
            "max_height": null,
            "max_width": null,
            "min_height": null,
            "min_width": null,
            "object_fit": null,
            "object_position": null,
            "order": null,
            "overflow": null,
            "overflow_x": null,
            "overflow_y": null,
            "padding": null,
            "right": null,
            "top": null,
            "visibility": null,
            "width": null
          }
        },
        "8610827998c14a07969cfe5a794b54f8": {
          "model_module": "@jupyter-widgets/controls",
          "model_module_version": "1.5.0",
          "model_name": "DescriptionStyleModel",
          "state": {
            "_model_module": "@jupyter-widgets/controls",
            "_model_module_version": "1.5.0",
            "_model_name": "DescriptionStyleModel",
            "_view_count": null,
            "_view_module": "@jupyter-widgets/base",
            "_view_module_version": "1.2.0",
            "_view_name": "StyleView",
            "description_width": ""
          }
        },
        "9d7830062e014d5f9cc334a4107583a4": {
          "model_module": "@jupyter-widgets/base",
          "model_module_version": "1.2.0",
          "model_name": "LayoutModel",
          "state": {
            "_model_module": "@jupyter-widgets/base",
            "_model_module_version": "1.2.0",
            "_model_name": "LayoutModel",
            "_view_count": null,
            "_view_module": "@jupyter-widgets/base",
            "_view_module_version": "1.2.0",
            "_view_name": "LayoutView",
            "align_content": null,
            "align_items": null,
            "align_self": null,
            "border": null,
            "bottom": null,
            "display": null,
            "flex": null,
            "flex_flow": null,
            "grid_area": null,
            "grid_auto_columns": null,
            "grid_auto_flow": null,
            "grid_auto_rows": null,
            "grid_column": null,
            "grid_gap": null,
            "grid_row": null,
            "grid_template_areas": null,
            "grid_template_columns": null,
            "grid_template_rows": null,
            "height": null,
            "justify_content": null,
            "justify_items": null,
            "left": null,
            "margin": null,
            "max_height": null,
            "max_width": null,
            "min_height": null,
            "min_width": null,
            "object_fit": null,
            "object_position": null,
            "order": null,
            "overflow": null,
            "overflow_x": null,
            "overflow_y": null,
            "padding": null,
            "right": null,
            "top": null,
            "visibility": null,
            "width": null
          }
        },
        "b62fb971a6a24e43b72eda0cce837997": {
          "model_module": "@jupyter-widgets/base",
          "model_module_version": "1.2.0",
          "model_name": "LayoutModel",
          "state": {
            "_model_module": "@jupyter-widgets/base",
            "_model_module_version": "1.2.0",
            "_model_name": "LayoutModel",
            "_view_count": null,
            "_view_module": "@jupyter-widgets/base",
            "_view_module_version": "1.2.0",
            "_view_name": "LayoutView",
            "align_content": null,
            "align_items": null,
            "align_self": null,
            "border": null,
            "bottom": null,
            "display": null,
            "flex": null,
            "flex_flow": null,
            "grid_area": null,
            "grid_auto_columns": null,
            "grid_auto_flow": null,
            "grid_auto_rows": null,
            "grid_column": null,
            "grid_gap": null,
            "grid_row": null,
            "grid_template_areas": null,
            "grid_template_columns": null,
            "grid_template_rows": null,
            "height": null,
            "justify_content": null,
            "justify_items": null,
            "left": null,
            "margin": null,
            "max_height": null,
            "max_width": null,
            "min_height": null,
            "min_width": null,
            "object_fit": null,
            "object_position": null,
            "order": null,
            "overflow": null,
            "overflow_x": null,
            "overflow_y": null,
            "padding": null,
            "right": null,
            "top": null,
            "visibility": null,
            "width": null
          }
        },
        "b66b709604734d01940664391fc95ba3": {
          "model_module": "@jupyter-widgets/controls",
          "model_module_version": "1.5.0",
          "model_name": "DescriptionStyleModel",
          "state": {
            "_model_module": "@jupyter-widgets/controls",
            "_model_module_version": "1.5.0",
            "_model_name": "DescriptionStyleModel",
            "_view_count": null,
            "_view_module": "@jupyter-widgets/base",
            "_view_module_version": "1.2.0",
            "_view_name": "StyleView",
            "description_width": ""
          }
        },
        "cd74c8dc0ca4491598c2496dea6bb3a6": {
          "model_module": "@jupyter-widgets/controls",
          "model_module_version": "1.5.0",
          "model_name": "ProgressStyleModel",
          "state": {
            "_model_module": "@jupyter-widgets/controls",
            "_model_module_version": "1.5.0",
            "_model_name": "ProgressStyleModel",
            "_view_count": null,
            "_view_module": "@jupyter-widgets/base",
            "_view_module_version": "1.2.0",
            "_view_name": "StyleView",
            "bar_color": null,
            "description_width": ""
          }
        },
        "f1bbf463a80a4baebd423431b179c87a": {
          "model_module": "@jupyter-widgets/base",
          "model_module_version": "1.2.0",
          "model_name": "LayoutModel",
          "state": {
            "_model_module": "@jupyter-widgets/base",
            "_model_module_version": "1.2.0",
            "_model_name": "LayoutModel",
            "_view_count": null,
            "_view_module": "@jupyter-widgets/base",
            "_view_module_version": "1.2.0",
            "_view_name": "LayoutView",
            "align_content": null,
            "align_items": null,
            "align_self": null,
            "border": null,
            "bottom": null,
            "display": null,
            "flex": null,
            "flex_flow": null,
            "grid_area": null,
            "grid_auto_columns": null,
            "grid_auto_flow": null,
            "grid_auto_rows": null,
            "grid_column": null,
            "grid_gap": null,
            "grid_row": null,
            "grid_template_areas": null,
            "grid_template_columns": null,
            "grid_template_rows": null,
            "height": null,
            "justify_content": null,
            "justify_items": null,
            "left": null,
            "margin": null,
            "max_height": null,
            "max_width": null,
            "min_height": null,
            "min_width": null,
            "object_fit": null,
            "object_position": null,
            "order": null,
            "overflow": null,
            "overflow_x": null,
            "overflow_y": null,
            "padding": null,
            "right": null,
            "top": null,
            "visibility": null,
            "width": null
          }
        }
      }
    }
  },
  "nbformat": 4,
  "nbformat_minor": 0
}